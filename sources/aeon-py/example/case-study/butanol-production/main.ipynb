{
 "cells": [
  {
   "cell_type": "markdown",
   "metadata": {
    "cell_id": "fe37bb47-4851-46a5-978c-65359fb7f031",
    "deepnote_app_coordinates": {
     "h": 5,
     "w": 12,
     "x": 0,
     "y": 12
    },
    "deepnote_cell_type": "markdown",
    "tags": []
   },
   "source": [
    "## Butanol Production Pathway: Attractor Bifurcation Analysis\n",
    "\n",
    "In this notebook, we analyse the attractors of a butanol production pathway model as appearing on [CellCollective]( https://research.cellcollective.org/?dashboard=true#module/36604:1/signaling-pathway-for-butanol-production-in-clostridium-beijerinckii-nrrl-b598/10) \\[1]. The model has been exported as `.sbml` and is included in this project as `butanol-pathway.sbml`. However, this `butanol-pathway.sbml` file cannot be processed by AEON directly, since it contains logical inconsistencies between update functions and the regulatory graph. We thus also include a version of the model where the problematic requirements about the regulatory graph of the network have been removed (`butanol-pathway-relaxed.aeon`).\n",
    "\n",
    "In this notebook, when we refer to the measurements or observations about the system performed by the original authors, we primarily mean \\[1]. However, \\[1] also relies on the data and measurements from \\[2] and \\[3].\n",
    "\n",
    "### Attractor bifurcation analysis\n",
    "\n",
    "In the following code, we demonstrate the problem with the original model and show how it has been fixed in the relaxed version of the regulatory graph:"
   ]
  },
  {
   "cell_type": "code",
   "execution_count": 1,
   "metadata": {
    "cell_id": "175e5c33-b660-4d98-9a8e-e7ddb615203a",
    "deepnote_app_coordinates": {
     "h": 5,
     "w": 12,
     "x": 0,
     "y": 18
    },
    "deepnote_cell_type": "code",
    "deepnote_to_be_reexecuted": false,
    "execution_millis": 42,
    "execution_start": 1643455061694,
    "source_hash": "4438d36b",
    "tags": []
   },
   "outputs": [],
   "source": [
    "from biodivine_aeon import *\n",
    "from pandas import DataFrame # Only used for visualising tables.\n",
    "from pathlib import Path"
   ]
  },
  {
   "cell_type": "code",
   "execution_count": 2,
   "metadata": {
    "cell_id": "e7950446-d50c-47bf-a9bd-8d397b3b7bbc",
    "deepnote_app_coordinates": {
     "h": 5,
     "w": 12,
     "x": 0,
     "y": null
    },
    "deepnote_cell_type": "code",
    "deepnote_to_be_reexecuted": false,
    "execution_millis": 44,
    "execution_start": 1643455061736,
    "source_hash": "b36e1870",
    "tags": []
   },
   "outputs": [
    {
     "name": "stdout",
     "output_type": "stream",
     "text": [
      "BooleanNetwork(variables = 66, parameters = 0, regulations = 139)\n"
     ]
    }
   ],
   "source": [
    "original_model = BooleanNetwork.from_file('butanol-pathway.sbml')\n",
    "model = BooleanNetwork.from_file('butanol-pathway-relaxed.aeon')\n",
    "print(model)"
   ]
  },
  {
   "cell_type": "code",
   "execution_count": 3,
   "metadata": {},
   "outputs": [
    {
     "name": "stdout",
     "output_type": "stream",
     "text": [
      "Cannot create graph from the original model.\n",
      "No update functions satisfy given constraints: \n",
      " - spoIIE not activating in spoIIAB.\n",
      " - sigA has no effect in spo0A_p.\n",
      " - sporulation has no effect in glucose___PTS.\n",
      "\n"
     ]
    }
   ],
   "source": [
    "# Try to build a symbolic asynchronous graph from the original model.\n",
    "# This should list problems in the structure of the original model.\n",
    "try:\n",
    "    graph = SymbolicAsyncGraph(original_model)\n",
    "except Exception as e:\n",
    "    print(\"Cannot create graph from the original model.\")\n",
    "    print(e)"
   ]
  },
  {
   "cell_type": "code",
   "execution_count": 4,
   "metadata": {},
   "outputs": [
    {
     "name": "stdout",
     "output_type": "stream",
     "text": [
      "==== spoIIE -> spoIIAB updated from activation to inhibition ====\n",
      "{'source': VariableId(63), 'target': VariableId(60), 'monotonicity': 'activation', 'observable': True}\n",
      "{'source': VariableId(63), 'target': VariableId(60), 'monotonicity': 'inhibition', 'observable': True}\n",
      "==== sigA -> spo0A_p observability is removed ====\n",
      "{'source': VariableId(51), 'target': VariableId(58), 'monotonicity': 'activation', 'observable': True}\n",
      "{'source': VariableId(51), 'target': VariableId(58), 'monotonicity': 'activation', 'observable': False}\n",
      "==== sporulation -> glucose___PTS observability is removed ====\n",
      "{'source': VariableId(64), 'target': VariableId(39), 'monotonicity': 'inhibition', 'observable': True}\n",
      "{'source': VariableId(64), 'target': VariableId(39), 'monotonicity': 'inhibition', 'observable': False}\n"
     ]
    }
   ],
   "source": [
    "# Now print regulations that changed between the two models.\n",
    "original_rg = original_model.graph()\n",
    "rg = model.graph()\n",
    "\n",
    "print(\"==== spoIIE -> spoIIAB updated from activation to inhibition ====\")\n",
    "print(original_rg.find_regulation(\"spoIIE\", \"spoIIAB\"))\n",
    "print(rg.find_regulation(\"spoIIE\", \"spoIIAB\"))\n",
    "\n",
    "print(\"==== sigA -> spo0A_p observability is removed ====\")\n",
    "print(original_rg.find_regulation(\"sigA\", \"spo0A_p\"))\n",
    "print(rg.find_regulation(\"sigA\", \"spo0A_p\"))\n",
    "\n",
    "print(\"==== sporulation -> glucose___PTS observability is removed ====\")\n",
    "print(original_rg.find_regulation(\"sporulation\", \"glucose___PTS\"))\n",
    "print(rg.find_regulation(\"sporulation\", \"glucose___PTS\"))"
   ]
  },
  {
   "cell_type": "markdown",
   "metadata": {},
   "source": [
    "Finally, the model that we just loaded contains inputs. We can automatically turn these inputs into logical parameters. This simplifies many computations, as it allows AEON to encode the model more compactly."
   ]
  },
  {
   "cell_type": "code",
   "execution_count": 5,
   "metadata": {},
   "outputs": [
    {
     "name": "stdout",
     "output_type": "stream",
     "text": [
      "BooleanNetwork(variables = 53, parameters = 13, regulations = 120)\n",
      "9007199254740992 8192\n"
     ]
    }
   ],
   "source": [
    "model = model.inline_inputs()\n",
    "print(model)\n",
    "\n",
    "# And we can succssfully create a symbolic graph from the relaxed model:\n",
    "graph = SymbolicAsyncGraph(model)\n",
    "print(int(graph.unit_vertices().cardinality()), int(graph.unit_colors().cardinality()))"
   ]
  },
  {
   "cell_type": "markdown",
   "metadata": {
    "cell_id": "5d961f62-6abd-446c-ab59-adf2c6864229",
    "deepnote_app_coordinates": {
     "h": 5,
     "w": 12,
     "x": 0,
     "y": 24
    },
    "deepnote_cell_type": "markdown",
    "tags": []
   },
   "source": [
    "Now, we can compute the attractors of this model for every possible combination of its parameter values (i.e. colors), which in this case are the valuations of the network inputs. Importantly, we can verify that for every parametrisation, there is exactly one attractor. Therefore, we can safely merge the two discovered sets of states into one attractor set.\n",
    "\n",
    "> Due to the way the on-the-fly attractor detection algorithm works, it can output multiple sets of attractors even when they in fact cover disjoint parameterisations."
   ]
  },
  {
   "cell_type": "code",
   "execution_count": 6,
   "metadata": {
    "cell_id": "6b603d3f-c1c6-4796-8a89-8a49f3466ece",
    "deepnote_app_coordinates": {
     "h": 5,
     "w": 12,
     "x": 0,
     "y": 30
    },
    "deepnote_cell_type": "code",
    "deepnote_to_be_reexecuted": true,
    "execution_millis": 823,
    "execution_start": 1643455158587,
    "source_hash": "f6618294",
    "tags": []
   },
   "outputs": [],
   "source": [
    "# This can take up several seconds to compute.\n",
    "attractors = find_attractors(graph)\n",
    "\n",
    "# Check that we indeed got two disjoint attractor sets.\n",
    "assert(len(attractors) == 2)\n",
    "assert(attractors[0].colors().intersect(attractors[1].colors()).is_empty())\n",
    "\n",
    "# Merge the two disjoint sets into a single attractor set.\n",
    "attractor = attractors[0].union(attractors[1])"
   ]
  },
  {
   "cell_type": "markdown",
   "metadata": {
    "cell_id": "808ff3de-fbd2-4020-aa42-bd61a50cca59",
    "deepnote_app_coordinates": {
     "h": 5,
     "w": 12,
     "x": 0,
     "y": 36
    },
    "deepnote_cell_type": "markdown",
    "tags": []
   },
   "source": [
    "Analysing this model in AEON user interface allows us to construct a basic decision tree describing how the behaviour of the model (i.e. the discovered attractors) changes for different settings of logical parameters. Since this is to a large extent an interactive task, it is not yet supported in the Python API. For completness, we here give a screenshot of the decision tree, which will inform our subsequent steps. Note that we refer to the three leafs of the tree as mode **I**, **II**, and **III** (left to right). "
   ]
  },
  {
   "cell_type": "markdown",
   "metadata": {
    "cell_id": "5b8bd3e2-cee1-4705-a3ac-ab53bd363ba2",
    "deepnote_app_coordinates": {
     "h": 5,
     "w": 12,
     "x": 0,
     "y": 42
    },
    "deepnote_cell_type": "markdown",
    "tags": []
   },
   "source": [
    "<p align=\"center\">\n",
    "  <img src=\"./decision-tree.png\" width=\"300\" />\n",
    "</p>"
   ]
  },
  {
   "cell_type": "markdown",
   "metadata": {
    "cell_id": "ec85be2e-6ae4-4e1e-844f-44296c423602",
    "deepnote_app_coordinates": {
     "h": 5,
     "w": 12,
     "x": 0,
     "y": 48
    },
    "deepnote_cell_type": "markdown",
    "tags": []
   },
   "source": [
    "### Validating known observations\n",
    "\n",
    "To compare our attractors with existing knowledge about the pathway, we need to further explore how the individual variables of the model behave in each of the three modes (leafs of the decision tree) shown above. We can do this using simple queries about the structure of the `attractor` set:"
   ]
  },
  {
   "cell_type": "code",
   "execution_count": 7,
   "metadata": {},
   "outputs": [
    {
     "name": "stdout",
     "output_type": "stream",
     "text": [
      "112508022784 2048 867621814984704\n"
     ]
    }
   ],
   "source": [
    "sigA_off = graph.fix_parameter(\"sigA\", False)\n",
    "sigA_on = graph.fix_parameter(\"sigA\", True)\n",
    "\n",
    "glucose_off = graph.fix_parameter(\"glucose\", False)\n",
    "glucose_on = graph.fix_parameter(\"glucose\", True)\n",
    "\n",
    "mode_I = attractor.intersect_colors(sigA_off)\n",
    "mode_II = attractor.intersect_colors(sigA_on).intersect_colors(glucose_off)\n",
    "mode_III = attractor.intersect_colors(sigA_on).intersect_colors(glucose_on)\n",
    "\n",
    "print(int(mode_I.cardinality()), int(mode_II.cardinality()), int(mode_III.cardinality()))"
   ]
  },
  {
   "cell_type": "code",
   "execution_count": 8,
   "metadata": {
    "cell_id": "522dc08b-c61e-4518-955a-c31e7a0af70e",
    "deepnote_app_coordinates": {
     "h": 5,
     "w": 12,
     "x": 0,
     "y": 54
    },
    "deepnote_cell_type": "code",
    "deepnote_to_be_reexecuted": true,
    "execution_millis": 3,
    "execution_start": 1643451359369,
    "source_hash": "df979bf6",
    "tags": []
   },
   "outputs": [
    {
     "name": "stdout",
     "output_type": "stream",
     "text": [
      "{'on': ColorSet(cardinality=3072), 'off': ColorSet(cardinality=0), 'both': ColorSet(cardinality=1024)}\n",
      "{'on': ColorSet(cardinality=0), 'off': ColorSet(cardinality=2048), 'both': ColorSet(cardinality=0)}\n",
      "{'on': ColorSet(cardinality=0), 'off': ColorSet(cardinality=0), 'both': ColorSet(cardinality=2048)}\n"
     ]
    }
   ],
   "source": [
    "# Classify the colors depending on whether a variable can be always true, \n",
    "# always false, or change its value (i.e. the set states contains both instances where the \n",
    "# variable is true and false).\n",
    "def check_stability(graph, states, variable):\n",
    "    on_colors = states.intersect(graph.fix_variable(variable, True)).colors()\n",
    "    off_colors = states.intersect(graph.fix_variable(variable, False)).colors()\n",
    "    both = on_colors.intersect(off_colors)\n",
    "    return { \"on\": on_colors.minus(both), \"off\": off_colors.minus(both), \"both\": both }\n",
    "\n",
    "print(check_stability(graph, mode_I, \"butanol\"))\n",
    "print(check_stability(graph, mode_II, \"butanol\"))\n",
    "print(check_stability(graph, mode_III, \"butanol\"))"
   ]
  },
  {
   "cell_type": "markdown",
   "metadata": {
    "cell_id": "2297c601-4c14-4d95-b2b9-8e06688dac56",
    "deepnote_app_coordinates": {
     "h": 5,
     "w": 12,
     "x": 0,
     "y": 60
    },
    "deepnote_cell_type": "markdown",
    "tags": []
   },
   "source": [
    "Here, we see that in mode **I**, `butanol` production is either perpetually (*on*) or intermittently (*both*) enabled. Meanwhile, in mode **II**, the value of `butanol` remains `false` for every possible parametrisation. Finally, in mode **III**, the value changes between `true` and `false` but never stabilises to a fixed value. Since we know from the decision tree that this attractor is disordered, we can assume that this is not a periodic oscillation.\n",
    "\n",
    "For comparison, we can run this analysis for multiple variables to get a more complete picture about the state of the cell in each of the attractors. To make the data more readable, we transform the absolute numbers of parametrisations to relative percentages:"
   ]
  },
  {
   "cell_type": "code",
   "execution_count": 9,
   "metadata": {
    "cell_id": "647b7a3a-a6d7-410e-904e-a2a04cd882f8",
    "deepnote_app_coordinates": {
     "h": 5,
     "w": 12,
     "x": 0,
     "y": 66
    },
    "deepnote_cell_type": "code",
    "deepnote_to_be_reexecuted": true,
    "execution_millis": 196,
    "execution_start": 1643451594693,
    "source_hash": "152dbcef",
    "tags": []
   },
   "outputs": [
    {
     "data": {
      "text/html": [
       "<div>\n",
       "<style scoped>\n",
       "    .dataframe tbody tr th:only-of-type {\n",
       "        vertical-align: middle;\n",
       "    }\n",
       "\n",
       "    .dataframe tbody tr th {\n",
       "        vertical-align: top;\n",
       "    }\n",
       "\n",
       "    .dataframe thead th {\n",
       "        text-align: right;\n",
       "    }\n",
       "</style>\n",
       "<table border=\"1\" class=\"dataframe\">\n",
       "  <thead>\n",
       "    <tr style=\"text-align: right;\">\n",
       "      <th></th>\n",
       "      <th>variable</th>\n",
       "      <th>sigA=off (I)</th>\n",
       "      <th>glucose=off (II)</th>\n",
       "      <th>glucose=on (III)</th>\n",
       "    </tr>\n",
       "  </thead>\n",
       "  <tbody>\n",
       "    <tr>\n",
       "      <th>0</th>\n",
       "      <td>acetic_acid</td>\n",
       "      <td>{'on': 75, 'both': 25}</td>\n",
       "      <td>{'off': 100}</td>\n",
       "      <td>{'both': 100}</td>\n",
       "    </tr>\n",
       "    <tr>\n",
       "      <th>1</th>\n",
       "      <td>butyric_acid</td>\n",
       "      <td>{'both': 100}</td>\n",
       "      <td>{'off': 100}</td>\n",
       "      <td>{'both': 100}</td>\n",
       "    </tr>\n",
       "    <tr>\n",
       "      <th>2</th>\n",
       "      <td>lactic_acid</td>\n",
       "      <td>{'on': 35, 'off': 53, 'both': 12}</td>\n",
       "      <td>{'off': 100}</td>\n",
       "      <td>{'off': 52, 'both': 48}</td>\n",
       "    </tr>\n",
       "    <tr>\n",
       "      <th>3</th>\n",
       "      <td>butanol</td>\n",
       "      <td>{'on': 75, 'both': 25}</td>\n",
       "      <td>{'off': 100}</td>\n",
       "      <td>{'both': 100}</td>\n",
       "    </tr>\n",
       "    <tr>\n",
       "      <th>4</th>\n",
       "      <td>ethanol</td>\n",
       "      <td>{'on': 50, 'off': 50}</td>\n",
       "      <td>{'off': 100}</td>\n",
       "      <td>{'off': 75, 'both': 25}</td>\n",
       "    </tr>\n",
       "    <tr>\n",
       "      <th>5</th>\n",
       "      <td>acetone</td>\n",
       "      <td>{'on': 75, 'both': 25}</td>\n",
       "      <td>{'off': 100}</td>\n",
       "      <td>{'both': 100}</td>\n",
       "    </tr>\n",
       "    <tr>\n",
       "      <th>6</th>\n",
       "      <td>sporulation</td>\n",
       "      <td>{'off': 75, 'both': 25}</td>\n",
       "      <td>{'on': 100}</td>\n",
       "      <td>{'both': 100}</td>\n",
       "    </tr>\n",
       "  </tbody>\n",
       "</table>\n",
       "</div>"
      ],
      "text/plain": [
       "       variable                       sigA=off (I) glucose=off (II)  \\\n",
       "0   acetic_acid             {'on': 75, 'both': 25}     {'off': 100}   \n",
       "1  butyric_acid                      {'both': 100}     {'off': 100}   \n",
       "2   lactic_acid  {'on': 35, 'off': 53, 'both': 12}     {'off': 100}   \n",
       "3       butanol             {'on': 75, 'both': 25}     {'off': 100}   \n",
       "4       ethanol              {'on': 50, 'off': 50}     {'off': 100}   \n",
       "5       acetone             {'on': 75, 'both': 25}     {'off': 100}   \n",
       "6   sporulation            {'off': 75, 'both': 25}      {'on': 100}   \n",
       "\n",
       "          glucose=on (III)  \n",
       "0            {'both': 100}  \n",
       "1            {'both': 100}  \n",
       "2  {'off': 52, 'both': 48}  \n",
       "3            {'both': 100}  \n",
       "4  {'off': 75, 'both': 25}  \n",
       "5            {'both': 100}  \n",
       "6            {'both': 100}  "
      ]
     },
     "execution_count": 9,
     "metadata": {},
     "output_type": "execute_result"
    }
   ],
   "source": [
    "table = []\n",
    "\n",
    "def process_stability(data):\n",
    "    size_all = data[\"on\"].cardinality() + data[\"off\"].cardinality() + data[\"both\"].cardinality()\n",
    "    result = {}\n",
    "    if not data[\"on\"].is_empty():\n",
    "        result[\"on\"] = round((data[\"on\"].cardinality() / size_all) * 100.0)\n",
    "    if not data[\"off\"].is_empty():\n",
    "        result[\"off\"] = round((data[\"off\"].cardinality() / size_all) * 100.0)\n",
    "    if not data[\"both\"].is_empty():\n",
    "        result[\"both\"] = round((data[\"both\"].cardinality() / size_all) * 100.0)\n",
    "    return result\n",
    "\n",
    "def add_row(graph, modes, table, variable):\n",
    "    results = [ process_stability(check_stability(graph, mode, variable)) for mode in modes ]\n",
    "    table.append([variable] + results)\n",
    "    \n",
    "\n",
    "for variable in [\"acetic_acid\", \"butyric_acid\", \"lactic_acid\", \"butanol\", \"ethanol\", \"acetone\", \"sporulation\"]:\n",
    "    add_row(graph, [mode_I, mode_II, mode_III], table, variable)\n",
    "    \n",
    "DataFrame(table, columns=[\"variable\", \"sigA=off (I)\", \"glucose=off (II)\", \"glucose=on (III)\"])"
   ]
  },
  {
   "cell_type": "markdown",
   "metadata": {
    "cell_id": "18a61b55-1c8f-42a4-bead-3833a3447b4b",
    "deepnote_app_coordinates": {
     "h": 5,
     "w": 12,
     "x": 0,
     "y": 72
    },
    "deepnote_cell_type": "markdown",
    "tags": []
   },
   "source": [
    "We focus on modes **II** and **III** which are studied in \\[1]. Here, the attractors align with biological expectations: when the nutrient (`glucose`) is absent, `sporulation` is active, and subsequently, production of other entities is supressed. Meanwhile, with nutrients, the cell is guaranteed to produce (irregularly) all products except for `ethanol` and `lactic_acid`. For these two products, there are possible input valuations where the production does not occur. For `ethanol`, this is expected. For `lactic_acid`, we also see relatively low expression in the observed data, but it may warrant additional investigation.\n",
    "\n",
    "Below, you can compare our data with in-vivo measurements and simulation performed as part of \\[1]."
   ]
  },
  {
   "cell_type": "markdown",
   "metadata": {
    "cell_id": "294bfde8-21ed-4b01-acbf-d0bb5b04c8f3",
    "deepnote_app_coordinates": {
     "h": 5,
     "w": 12,
     "x": 0,
     "y": 84
    },
    "deepnote_cell_type": "markdown",
    "tags": []
   },
   "source": [
    "<p align=\"center\">\n",
    "  <img src=\"./butanol-measurements.png\" width=\"400\" />\n",
    "</p>\n",
    "\n",
    "<p align=\"center\">\n",
    "  <img src=\"./butanol-simulation.png\" width=\"300\" />\n",
    "</p>"
   ]
  },
  {
   "cell_type": "markdown",
   "metadata": {
    "cell_id": "37650f86-bbaa-44eb-9250-b7f72b29f83e",
    "deepnote_app_coordinates": {
     "h": 5,
     "w": 12,
     "x": 0,
     "y": 78
    },
    "deepnote_cell_type": "markdown",
    "tags": []
   },
   "source": [
    "Furthermore, we can also compute the activity of other variables, in particular genes that were ivestigated in \\[1]:"
   ]
  },
  {
   "cell_type": "code",
   "execution_count": 10,
   "metadata": {
    "cell_id": "04b3a349-a7b9-42a5-b0e1-3428908f3aaf",
    "deepnote_app_coordinates": {
     "h": 5,
     "w": 12,
     "x": 0,
     "y": 90
    },
    "deepnote_cell_type": "code",
    "deepnote_to_be_reexecuted": true,
    "execution_millis": 119,
    "execution_start": 1643451844750,
    "source_hash": "1613931",
    "tags": []
   },
   "outputs": [
    {
     "data": {
      "text/html": [
       "<div>\n",
       "<style scoped>\n",
       "    .dataframe tbody tr th:only-of-type {\n",
       "        vertical-align: middle;\n",
       "    }\n",
       "\n",
       "    .dataframe tbody tr th {\n",
       "        vertical-align: top;\n",
       "    }\n",
       "\n",
       "    .dataframe thead th {\n",
       "        text-align: right;\n",
       "    }\n",
       "</style>\n",
       "<table border=\"1\" class=\"dataframe\">\n",
       "  <thead>\n",
       "    <tr style=\"text-align: right;\">\n",
       "      <th></th>\n",
       "      <th>variable</th>\n",
       "      <th>sigA=off (I)</th>\n",
       "      <th>glucose=off (II)</th>\n",
       "      <th>glucose=on (III)</th>\n",
       "    </tr>\n",
       "  </thead>\n",
       "  <tbody>\n",
       "    <tr>\n",
       "      <th>0</th>\n",
       "      <td>ack</td>\n",
       "      <td>{'on': 75, 'both': 25}</td>\n",
       "      <td>{'off': 100}</td>\n",
       "      <td>{'both': 100}</td>\n",
       "    </tr>\n",
       "    <tr>\n",
       "      <th>1</th>\n",
       "      <td>adc</td>\n",
       "      <td>{'off': 75, 'both': 25}</td>\n",
       "      <td>{'off': 100}</td>\n",
       "      <td>{'off': 50, 'both': 50}</td>\n",
       "    </tr>\n",
       "    <tr>\n",
       "      <th>2</th>\n",
       "      <td>bdhAB</td>\n",
       "      <td>{'off': 75, 'both': 25}</td>\n",
       "      <td>{'off': 100}</td>\n",
       "      <td>{'off': 50, 'both': 50}</td>\n",
       "    </tr>\n",
       "    <tr>\n",
       "      <th>3</th>\n",
       "      <td>buk1</td>\n",
       "      <td>{'on': 75, 'both': 25}</td>\n",
       "      <td>{'off': 100}</td>\n",
       "      <td>{'both': 100}</td>\n",
       "    </tr>\n",
       "    <tr>\n",
       "      <th>4</th>\n",
       "      <td>crt</td>\n",
       "      <td>{'on': 75, 'both': 25}</td>\n",
       "      <td>{'off': 100}</td>\n",
       "      <td>{'both': 100}</td>\n",
       "    </tr>\n",
       "    <tr>\n",
       "      <th>5</th>\n",
       "      <td>hbd</td>\n",
       "      <td>{'on': 75, 'both': 25}</td>\n",
       "      <td>{'off': 100}</td>\n",
       "      <td>{'both': 100}</td>\n",
       "    </tr>\n",
       "    <tr>\n",
       "      <th>6</th>\n",
       "      <td>pta</td>\n",
       "      <td>{'on': 75, 'both': 25}</td>\n",
       "      <td>{'off': 100}</td>\n",
       "      <td>{'both': 100}</td>\n",
       "    </tr>\n",
       "  </tbody>\n",
       "</table>\n",
       "</div>"
      ],
      "text/plain": [
       "  variable             sigA=off (I) glucose=off (II)         glucose=on (III)\n",
       "0      ack   {'on': 75, 'both': 25}     {'off': 100}            {'both': 100}\n",
       "1      adc  {'off': 75, 'both': 25}     {'off': 100}  {'off': 50, 'both': 50}\n",
       "2    bdhAB  {'off': 75, 'both': 25}     {'off': 100}  {'off': 50, 'both': 50}\n",
       "3     buk1   {'on': 75, 'both': 25}     {'off': 100}            {'both': 100}\n",
       "4      crt   {'on': 75, 'both': 25}     {'off': 100}            {'both': 100}\n",
       "5      hbd   {'on': 75, 'both': 25}     {'off': 100}            {'both': 100}\n",
       "6      pta   {'on': 75, 'both': 25}     {'off': 100}            {'both': 100}"
      ]
     },
     "execution_count": 10,
     "metadata": {},
     "output_type": "execute_result"
    }
   ],
   "source": [
    "gene_table = []\n",
    "\n",
    "for variable in [\"ack\", \"adc\", \"bdhAB\", \"buk1\", \"crt\", \"hbd\", \"pta\"]:\n",
    "    add_row(graph, [mode_I, mode_II, mode_III], gene_table, variable)\n",
    "\n",
    "DataFrame(gene_table, columns=[\"variable\", \"sigA=off (I)\", \"glucose=off (II)\", \"glucose=on (III)\"])"
   ]
  },
  {
   "cell_type": "markdown",
   "metadata": {
    "cell_id": "30415874-7551-4082-96ee-03704502d224",
    "deepnote_app_coordinates": {
     "h": 5,
     "w": 12,
     "x": 0,
     "y": 96
    },
    "deepnote_cell_type": "markdown",
    "tags": []
   },
   "source": [
    "Here, we also find that we are mostly in aggreement with the behaviour measured by the authors, where activity of all genes is suppressed in the sporulation stage, but each gene should become (irregularly) active once `glucose` is present. The only exception are `adc` and `bdhAB`, which also allow configurations with no activity. Note that these two genes only appear to activate after a period of time in the original experiments, indicating a change in the environment which could align with a change of the input parameters in our model."
   ]
  },
  {
   "cell_type": "markdown",
   "metadata": {
    "cell_id": "917e253c-a257-435d-a69a-7a5a0fc66ceb",
    "deepnote_app_coordinates": {
     "h": 5,
     "w": 12,
     "x": 0,
     "y": 102
    },
    "deepnote_cell_type": "markdown",
    "tags": []
   },
   "source": [
    "### Update function repair\n",
    "\n",
    "In the first part, we had to relax the regulatory graph of the network because it was not consistent with its update functions. Now, we attempt to fix this issue by devising a new version of the model that is consistent with the original regulatory graph, but also reproduces the attractors of the original network as closely as possible (since these were experimentally confirmed).\n",
    "\n",
    "As the first step, we use the original Boolean model, but augment it with three uninterpreted Boolean functions which will stand in for the (currently) problematic parts of the update functions. Such change would be easier to perform in the interactive model editor provided by AEON, but for completeness, we also describe it here in code:"
   ]
  },
  {
   "cell_type": "code",
   "execution_count": 11,
   "metadata": {
    "cell_id": "981c8dfa-113c-45b5-b8b5-2b0cf9801318",
    "deepnote_app_coordinates": {
     "h": 5,
     "w": 12,
     "x": 0,
     "y": 108
    },
    "deepnote_cell_type": "code",
    "deepnote_output_heights": [
     21
    ],
    "deepnote_to_be_reexecuted": true,
    "execution_millis": 759,
    "execution_start": 1643452807747,
    "source_hash": "1a43e744",
    "tags": []
   },
   "outputs": [
    {
     "name": "stdout",
     "output_type": "stream",
     "text": [
      "(spo0A & (phosphorylation & f_1(sigA, sporulation)))\n"
     ]
    }
   ],
   "source": [
    "model = BooleanNetwork.from_file('butanol-pathway.sbml')\n",
    "\n",
    "# Declare uninterpreted functions:\n",
    "model.add_parameter({ \"name\": \"f_1\", \"arity\": 2 })\n",
    "model.add_parameter({ \"name\": \"f_2\", \"arity\": 2 })\n",
    "model.add_parameter({ \"name\": \"f_3\", \"arity\": 3 })\n",
    "\n",
    "# Change original functions and confirm that the change has been successful:\n",
    "f_spo0A_p = \"spo0A & phosphorylation & f_1(sigA, sporulation)\"\n",
    "f_glucose_PTS = \"glucose & PTS & f_2(cell_membrane, sporulation)\"\n",
    "f_spoIIAB = \"spo0A_p & f_3(sigH, spoIIAA, spoIIE)\"\n",
    "\n",
    "model.set_update_function(\"spo0A_p\", f_spo0A_p)\n",
    "model.set_update_function(\"glucose___PTS\", f_glucose_PTS)\n",
    "model.set_update_function(\"spoIIAB\", f_spoIIAB)\n",
    "\n",
    "print(model.get_update_function(\"spo0A_p\").to_string(model))"
   ]
  },
  {
   "cell_type": "code",
   "execution_count": 12,
   "metadata": {
    "cell_id": "26481f38-9161-46a2-b99f-6acfbed29f5e",
    "deepnote_app_coordinates": {
     "h": 5,
     "w": 12,
     "x": 0,
     "y": 114
    },
    "deepnote_cell_type": "code",
    "deepnote_output_heights": [
     21
    ],
    "deepnote_to_be_reexecuted": true,
    "execution_millis": 2,
    "execution_start": 1643452870188,
    "source_hash": "c9910969",
    "tags": []
   },
   "outputs": [],
   "source": [
    "# Save the modified model for future reference.\n",
    "Path('butanol-pathway-f1-f2-f3.aeon').write_text(model.to_aeon());"
   ]
  },
  {
   "cell_type": "markdown",
   "metadata": {
    "cell_id": "6640f818-906d-4a6f-879c-04a68107e45b",
    "deepnote_app_coordinates": {
     "h": 5,
     "w": 12,
     "x": 0,
     "y": 120
    },
    "deepnote_cell_type": "markdown",
    "tags": []
   },
   "source": [
    "With these new explicit \"functional\" parameters, we can again compute the attractors of the network, and just as before, we end up with a single attractor. *Note that the compuation can take several minutes.* This is because AEON actually tests every combination of possible functions `f_1`, `f_2`, and `f_3` as long as they satisfy the constraints given by the regulatory graph."
   ]
  },
  {
   "cell_type": "code",
   "execution_count": 13,
   "metadata": {
    "cell_id": "ea878fe2-7cb4-405e-92dc-176b44fffdc4",
    "deepnote_app_coordinates": {
     "h": 5,
     "w": 12,
     "x": 0,
     "y": 126
    },
    "deepnote_cell_type": "code",
    "deepnote_to_be_reexecuted": true,
    "execution_millis": 166535,
    "execution_start": 1643452920744,
    "source_hash": "18cee6af",
    "tags": []
   },
   "outputs": [],
   "source": [
    "graph = SymbolicAsyncGraph(model)\n",
    "attractors = find_attractors(graph)\n",
    "\n",
    "assert(len(attractors) == 2)\n",
    "assert(attractors[0].colors().intersect(attractors[1].colors()).is_empty())\n",
    "\n",
    "attractor = attractors[0].union(attractors[1])"
   ]
  },
  {
   "cell_type": "markdown",
   "metadata": {
    "cell_id": "bdc558fe-d4d8-4bf6-9c63-99e4cab608fa",
    "deepnote_app_coordinates": {
     "h": 5,
     "w": 12,
     "x": 0,
     "y": 132
    },
    "deepnote_cell_type": "markdown",
    "tags": []
   },
   "source": [
    "Interestingly, this (parametrised) set of attractors leads to the same bifurcation decision tree as we saw in the original model (see above).\n",
    "\n",
    "Subsequently, we can also compute a similar table of stable and unstable variables as before:"
   ]
  },
  {
   "cell_type": "code",
   "execution_count": 14,
   "metadata": {
    "cell_id": "3fde0303-b3d2-41dd-ae55-b935034fdbe2",
    "deepnote_app_coordinates": {
     "h": 5,
     "w": 12,
     "x": 0,
     "y": 138
    },
    "deepnote_cell_type": "code",
    "deepnote_to_be_reexecuted": true,
    "execution_millis": 0,
    "execution_start": 1643453437504,
    "source_hash": "46d50afe",
    "tags": []
   },
   "outputs": [
    {
     "name": "stdout",
     "output_type": "stream",
     "text": [
      "10350737997824 147456 24311321730221696\n"
     ]
    }
   ],
   "source": [
    "# Here, we did not inline the network inputs, hence `sigA` and `glucose` \n",
    "# are variables, not parameters.\n",
    "\n",
    "sigA_off = graph.fix_variable(\"sigA\", False)\n",
    "sigA_on = graph.fix_variable(\"sigA\", True)\n",
    "\n",
    "glucose_off = graph.fix_variable(\"glucose\", False)\n",
    "glucose_on = graph.fix_variable(\"glucose\", True)\n",
    "\n",
    "mode_I = attractor.intersect(sigA_off)\n",
    "mode_II = attractor.intersect(sigA_on).intersect(glucose_off)\n",
    "mode_III = attractor.intersect(sigA_on).intersect(glucose_on)\n",
    "\n",
    "print(int(mode_I.cardinality()), int(mode_II.cardinality()), int(mode_III.cardinality()))"
   ]
  },
  {
   "cell_type": "code",
   "execution_count": 15,
   "metadata": {
    "cell_id": "099e73fa-d176-494e-ade8-8eb99c14ae6d",
    "deepnote_app_coordinates": {
     "h": 5,
     "w": 12,
     "x": 0,
     "y": 144
    },
    "deepnote_cell_type": "code",
    "deepnote_to_be_reexecuted": true,
    "execution_millis": 251,
    "execution_start": 1643453452386,
    "source_hash": "8a08efc3",
    "tags": []
   },
   "outputs": [
    {
     "data": {
      "text/html": [
       "<div>\n",
       "<style scoped>\n",
       "    .dataframe tbody tr th:only-of-type {\n",
       "        vertical-align: middle;\n",
       "    }\n",
       "\n",
       "    .dataframe tbody tr th {\n",
       "        vertical-align: top;\n",
       "    }\n",
       "\n",
       "    .dataframe thead th {\n",
       "        text-align: right;\n",
       "    }\n",
       "</style>\n",
       "<table border=\"1\" class=\"dataframe\">\n",
       "  <thead>\n",
       "    <tr style=\"text-align: right;\">\n",
       "      <th></th>\n",
       "      <th>variable</th>\n",
       "      <th>sigA=off (I)</th>\n",
       "      <th>glucose=off (II)</th>\n",
       "      <th>glucose=on (III)</th>\n",
       "    </tr>\n",
       "  </thead>\n",
       "  <tbody>\n",
       "    <tr>\n",
       "      <th>0</th>\n",
       "      <td>acetic_acid</td>\n",
       "      <td>{'on': 88, 'both': 12}</td>\n",
       "      <td>{'off': 100}</td>\n",
       "      <td>{'off': 12, 'both': 88}</td>\n",
       "    </tr>\n",
       "    <tr>\n",
       "      <th>1</th>\n",
       "      <td>butyric_acid</td>\n",
       "      <td>{'both': 100}</td>\n",
       "      <td>{'off': 100}</td>\n",
       "      <td>{'off': 12, 'both': 88}</td>\n",
       "    </tr>\n",
       "    <tr>\n",
       "      <th>2</th>\n",
       "      <td>lactic_acid</td>\n",
       "      <td>{'on': 42, 'off': 53, 'both': 6}</td>\n",
       "      <td>{'off': 100}</td>\n",
       "      <td>{'off': 52, 'both': 48}</td>\n",
       "    </tr>\n",
       "    <tr>\n",
       "      <th>3</th>\n",
       "      <td>butanol</td>\n",
       "      <td>{'on': 88, 'both': 12}</td>\n",
       "      <td>{'off': 100}</td>\n",
       "      <td>{'both': 100}</td>\n",
       "    </tr>\n",
       "    <tr>\n",
       "      <th>4</th>\n",
       "      <td>ethanol</td>\n",
       "      <td>{'on': 50, 'off': 50}</td>\n",
       "      <td>{'off': 100}</td>\n",
       "      <td>{'off': 90, 'both': 10}</td>\n",
       "    </tr>\n",
       "    <tr>\n",
       "      <th>5</th>\n",
       "      <td>acetone</td>\n",
       "      <td>{'on': 88, 'both': 12}</td>\n",
       "      <td>{'off': 100}</td>\n",
       "      <td>{'both': 100}</td>\n",
       "    </tr>\n",
       "    <tr>\n",
       "      <th>6</th>\n",
       "      <td>sporulation</td>\n",
       "      <td>{'off': 88, 'both': 12}</td>\n",
       "      <td>{'on': 100}</td>\n",
       "      <td>{'both': 100}</td>\n",
       "    </tr>\n",
       "  </tbody>\n",
       "</table>\n",
       "</div>"
      ],
      "text/plain": [
       "       variable                      sigA=off (I) glucose=off (II)  \\\n",
       "0   acetic_acid            {'on': 88, 'both': 12}     {'off': 100}   \n",
       "1  butyric_acid                     {'both': 100}     {'off': 100}   \n",
       "2   lactic_acid  {'on': 42, 'off': 53, 'both': 6}     {'off': 100}   \n",
       "3       butanol            {'on': 88, 'both': 12}     {'off': 100}   \n",
       "4       ethanol             {'on': 50, 'off': 50}     {'off': 100}   \n",
       "5       acetone            {'on': 88, 'both': 12}     {'off': 100}   \n",
       "6   sporulation           {'off': 88, 'both': 12}      {'on': 100}   \n",
       "\n",
       "          glucose=on (III)  \n",
       "0  {'off': 12, 'both': 88}  \n",
       "1  {'off': 12, 'both': 88}  \n",
       "2  {'off': 52, 'both': 48}  \n",
       "3            {'both': 100}  \n",
       "4  {'off': 90, 'both': 10}  \n",
       "5            {'both': 100}  \n",
       "6            {'both': 100}  "
      ]
     },
     "execution_count": 15,
     "metadata": {},
     "output_type": "execute_result"
    }
   ],
   "source": [
    "table = []\n",
    "\n",
    "for variable in [\"acetic_acid\", \"butyric_acid\", \"lactic_acid\", \"butanol\", \"ethanol\", \"acetone\", \"sporulation\"]:\n",
    "    add_row(graph, [mode_I, mode_II, mode_III], table, variable)\n",
    "    \n",
    "DataFrame(table, columns=[\"variable\", \"sigA=off (I)\", \"glucose=off (II)\", \"glucose=on (III)\"])"
   ]
  },
  {
   "cell_type": "markdown",
   "metadata": {
    "cell_id": "4a2e9d35-3614-49fc-9982-152288bee2dd",
    "deepnote_app_coordinates": {
     "h": 5,
     "w": 12,
     "x": 0,
     "y": 150
    },
    "deepnote_cell_type": "markdown",
    "tags": []
   },
   "source": [
    "This table is not that much different from the one we saw for the original model. Mostly, we only see a shift in the percentages. This is not a strong indicator of a real change if we don't know the actual real-world distribution of parametrisations (we could easily pollute the parameter space with parameters which are biologically unrealistic but skew the percentage towards a certain outcome). However, we see that in mode **III**, `acetic_acid` and `butyric_acid` can now become permanently inactive. This is something that isn't supported by the original observations, and as such we would generally like to avoid this behaviour.\n",
    "\n",
    "To do so, we can inspect the set of parametrisations to see whether there are some candidate functions which would lead us to the desired outcome. There are many ways of doing this. In this case, we use a projected enumeration of the symbolic set. That is, we go through all possible elements of the set, but with a projection to a specific part of the Boolean network. Here, we project to the update functions that we initially modified using parameters."
   ]
  },
  {
   "cell_type": "code",
   "execution_count": 16,
   "metadata": {
    "cell_id": "a5f96d04-4201-414e-bd3d-4ca7a50bab82",
    "deepnote_app_coordinates": {
     "h": 5,
     "w": 12,
     "x": 0,
     "y": 156
    },
    "deepnote_cell_type": "code",
    "deepnote_to_be_reexecuted": true,
    "execution_millis": 0,
    "execution_start": 1643453638224,
    "source_hash": "27f751c7",
    "tags": []
   },
   "outputs": [
    {
     "name": "stdout",
     "output_type": "stream",
     "text": [
      "{'on': ColorSet(cardinality=0), 'off': ColorSet(cardinality=18432), 'both': ColorSet(cardinality=129024)}\n"
     ]
    }
   ],
   "source": [
    "# Compute stability analysis for the acetic acid.\n",
    "acetic_acid_stability = check_stability(graph, mode_III, \"acetic_acid\")\n",
    "print(acetic_acid_stability)"
   ]
  },
  {
   "cell_type": "code",
   "execution_count": 17,
   "metadata": {},
   "outputs": [
    {
     "name": "stdout",
     "output_type": "stream",
     "text": [
      "+Desired update functions for spo0A_p:\n",
      " - (((phosphorylation & sigA) & spo0A) & !sporulation)\n",
      " - ((((phosphorylation & !sigA) & spo0A) & !sporulation) | ((phosphorylation & sigA) & spo0A))\n",
      "-Undesired update functions for spo0A_p:\n",
      " - ((((phosphorylation & !sigA) & spo0A) & !sporulation) | ((phosphorylation & sigA) & spo0A))\n",
      "+Desired update functions for glucose___PTS:\n",
      " - (((PTS & cell_membrane) & glucose) & !sporulation)\n",
      " - (((PTS & !cell_membrane) & glucose) & !sporulation)\n",
      " - ((((PTS & !cell_membrane) & glucose) & !sporulation) | ((PTS & cell_membrane) & glucose))\n",
      " - (((PTS & !cell_membrane) & glucose) | (((PTS & cell_membrane) & glucose) & !sporulation))\n",
      "-Undesired update functions for glucose___PTS:\n",
      " - (((PTS & cell_membrane) & glucose) & !sporulation)\n",
      " - (((PTS & !cell_membrane) & glucose) & !sporulation)\n",
      " - ((((PTS & !cell_membrane) & glucose) & !sporulation) | ((PTS & cell_membrane) & glucose))\n",
      " - (((PTS & !cell_membrane) & glucose) | (((PTS & cell_membrane) & glucose) & !sporulation))\n",
      "+Desired update functions for spoIIAB:\n",
      " - (((sigH & spo0A_p) & !spoIIAA) & spoIIE)\n",
      " - ((((!sigH & spo0A_p) & !spoIIAA) & spoIIE) | ((sigH & spo0A_p) & spoIIE))\n",
      " - (((sigH & spo0A_p) & !spoIIAA) | (((sigH & spo0A_p) & spoIIAA) & spoIIE))\n",
      " - ((((!sigH & spo0A_p) & !spoIIAA) & spoIIE) | ((sigH & spo0A_p) & !spoIIAA))\n",
      " - (((((!sigH & spo0A_p) & !spoIIAA) & spoIIE) | ((sigH & spo0A_p) & !spoIIAA)) | (((sigH & spo0A_p) & spoIIAA) & spoIIE))\n",
      " - ((((!sigH & spo0A_p) & spoIIE) | ((sigH & spo0A_p) & !spoIIAA)) | (((sigH & spo0A_p) & spoIIAA) & spoIIE))\n",
      " - ((((!sigH & spo0A_p) & !spoIIAA) & spoIIE) | (sigH & spo0A_p))\n",
      " - ((((!sigH & spo0A_p) & !spoIIAA) | ((sigH & spo0A_p) & !spoIIAA)) | (((sigH & spo0A_p) & spoIIAA) & spoIIE))\n",
      " - ((((!sigH & spo0A_p) & !spoIIAA) | (((!sigH & spo0A_p) & spoIIAA) & spoIIE)) | (sigH & spo0A_p))\n",
      "-Undesired update functions for spoIIAB:\n",
      " - (((sigH & spo0A_p) & !spoIIAA) & spoIIE)\n",
      " - ((((!sigH & spo0A_p) & !spoIIAA) & spoIIE) | ((sigH & spo0A_p) & spoIIE))\n",
      " - (((sigH & spo0A_p) & !spoIIAA) | (((sigH & spo0A_p) & spoIIAA) & spoIIE))\n",
      " - ((((!sigH & spo0A_p) & !spoIIAA) & spoIIE) | ((sigH & spo0A_p) & !spoIIAA))\n",
      " - (((((!sigH & spo0A_p) & !spoIIAA) & spoIIE) | ((sigH & spo0A_p) & !spoIIAA)) | (((sigH & spo0A_p) & spoIIAA) & spoIIE))\n",
      " - ((((!sigH & spo0A_p) & spoIIE) | ((sigH & spo0A_p) & !spoIIAA)) | (((sigH & spo0A_p) & spoIIAA) & spoIIE))\n",
      " - ((((!sigH & spo0A_p) & !spoIIAA) & spoIIE) | (sigH & spo0A_p))\n",
      " - ((((!sigH & spo0A_p) & !spoIIAA) | ((sigH & spo0A_p) & !spoIIAA)) | (((sigH & spo0A_p) & spoIIAA) & spoIIE))\n",
      " - ((((!sigH & spo0A_p) & !spoIIAA) | (((!sigH & spo0A_p) & spoIIAA) & spoIIE)) | (sigH & spo0A_p))\n"
     ]
    }
   ],
   "source": [
    "# Since there are no \"on\" colors, we only wish to retain \"both\" and avoid \"off\".\n",
    "desired_colors = acetic_acid_stability[\"both\"]\n",
    "undesired_colors = acetic_acid_stability[\"off\"]\n",
    "\n",
    "# Next, we make a projection of these color sets to each of the three variables with\n",
    "# unknown functions to see how many possible update functions there are for each of the\n",
    "# uninterpreted functions we declared earlier.\n",
    "\n",
    "for var in [\"spo0A_p\", \"glucose___PTS\", \"spoIIAB\"]:\n",
    "    print(f\"+Desired update functions for {var}:\")\n",
    "    # Projection that only retains a single function of the model.\n",
    "    projection = SymbolicProjection(graph, desired_colors, retained_functions=[var])\n",
    "    for (_s, f) in projection:\n",
    "        # Even though we are not projecting to any state variables, the result will always\n",
    "        # be a tuple of state and function data. Here, we can just ignore the state data.\n",
    "        \n",
    "        # `len(f)` is the same as `len(retained_functions)`\n",
    "        assert len(f) == 1\n",
    "        f = f[0]\n",
    "        # The elements of `f` are pairs of `VariableId` and `FnUpdate` objects.\n",
    "        print(f\" - {f[1].to_string(model)}\")\n",
    "        \n",
    "    print(f\"-Undesired update functions for {var}:\")\n",
    "    # The same but for the second set:\n",
    "    projection = SymbolicProjection(graph, undesired_colors, retained_functions=[var])\n",
    "    for (_s, f) in projection:\n",
    "        assert len(f) == 1\n",
    "        f = f[0]\n",
    "        print(f\" - {f[1].to_string(model)}\")"
   ]
  },
  {
   "cell_type": "markdown",
   "metadata": {
    "cell_id": "5fb3a558-a9a8-468b-a6b9-135f982b7c99",
    "deepnote_app_coordinates": {
     "h": 5,
     "w": 12,
     "x": 0,
     "y": 162
    },
    "deepnote_cell_type": "markdown",
    "tags": []
   },
   "source": [
    "From this list, we can see that for `glucose__PTS` and `spoIIAB`, all functions that appear in the \"desired\" color set also appear in the \"undesired\" color set. This means that the dependence between these two functions and the outcome is either trivial (it does not depend on them at all), or more complex than what we can see in this list (only specific combinations of the functions for both variables lead to the desired outcome). In this case, we could try to do a projection to both `glucose__PTS` and `spoIIAB` to decide which of these is the actual reality.\n",
    "\n",
    "However, we can also notice that for `spo0A_p`, function `(phosphorylation & sigA & spo0A & !sporulation)` guarantees the desired outcome (i.e. it does not appear in the undesired list). As such, we can try to simply fix the update function accordingly to guarantee that `acetic_acid` cannot stabilise in the \"off\" state anymore.\n",
    "\n",
    "> Note that using this transformation, we are losing some information. There is a second viable update function for `spo0A_p`, which in this case, we can't tell too much about. However, since our goal is to repair the original model without any new observations or data, using the simplest possible solution is a reasonable initial position, since any of the networks in the `desired_colors` would satisfy our requirement.\n",
    "\n",
    "As such, we re-initialize the model with the new update function and continue our analysis:"
   ]
  },
  {
   "cell_type": "code",
   "execution_count": 18,
   "metadata": {
    "cell_id": "45fa940f-9d59-41b6-8580-198468361e46",
    "deepnote_app_coordinates": {
     "h": 5,
     "w": 12,
     "x": 0,
     "y": 168
    },
    "deepnote_cell_type": "code",
    "deepnote_output_heights": [
     21
    ],
    "deepnote_to_be_reexecuted": true,
    "execution_millis": 15,
    "execution_start": 1643453649347,
    "source_hash": "e9f2e9ea",
    "tags": []
   },
   "outputs": [
    {
     "name": "stdout",
     "output_type": "stream",
     "text": [
      "(spo0A & (phosphorylation & (sigA & !sporulation)))\n"
     ]
    }
   ],
   "source": [
    "# Reload model again\n",
    "model = BooleanNetwork.from_sbml(Path('butanol-pathway.sbml').read_text())\n",
    "\n",
    "# Do not add f_1 any more\n",
    "model.add_parameter({ \"name\": \"f_2\", \"arity\": 2 })\n",
    "model.add_parameter({ \"name\": \"f_3\", \"arity\": 3 })\n",
    "\n",
    "# Re-declare update functions, using the new fixed f_1\n",
    "f_spo0A_p = \"spo0A & phosphorylation & sigA & !sporulation\"\n",
    "f_glucose_PTS = \"glucose & PTS & f_2(cell_membrane, sporulation)\"\n",
    "f_spoIIAB = \"spo0A_p & f_3(sigH, spoIIAA, spoIIE)\"\n",
    "\n",
    "model.set_update_function(\"spo0A_p\", f_spo0A_p)\n",
    "model.set_update_function(\"glucose___PTS\", f_glucose_PTS)\n",
    "model.set_update_function(\"spoIIAB\", f_spoIIAB)\n",
    "\n",
    "print(model.get_update_function(\"spo0A_p\").to_string(model))"
   ]
  },
  {
   "cell_type": "code",
   "execution_count": 19,
   "metadata": {
    "cell_id": "edfc05f7-557f-4d70-818e-7d10570910b9",
    "deepnote_app_coordinates": {
     "h": 5,
     "w": 12,
     "x": 0,
     "y": 174
    },
    "deepnote_cell_type": "code",
    "deepnote_output_heights": [
     21
    ],
    "deepnote_to_be_reexecuted": true,
    "execution_millis": 7,
    "execution_start": 1643453653426,
    "source_hash": "d58b42b9",
    "tags": []
   },
   "outputs": [],
   "source": [
    "# Save the modified model for future reference.\n",
    "Path('butanol-pathway-f2-f3.aeon').write_text(model.to_aeon());"
   ]
  },
  {
   "cell_type": "code",
   "execution_count": 20,
   "metadata": {
    "cell_id": "c4d199a7-adaa-4a28-a6df-b5178423130d",
    "deepnote_app_coordinates": {
     "h": 5,
     "w": 12,
     "x": 0,
     "y": 180
    },
    "deepnote_cell_type": "code",
    "deepnote_to_be_reexecuted": true,
    "execution_millis": 0,
    "execution_start": 1643453786940,
    "source_hash": "18cee6af",
    "tags": []
   },
   "outputs": [],
   "source": [
    "# Recompute the attractor set (this time the computation is slightly\n",
    "# faster since we removed one of the unknown functions)\n",
    "graph = SymbolicAsyncGraph(model)\n",
    "attractors = find_attractors(graph)\n",
    "\n",
    "assert(len(attractors) == 2)\n",
    "assert(attractors[0].colors().intersect(attractors[1].colors()).is_empty())\n",
    "\n",
    "attractor = attractors[0].union(attractors[1])"
   ]
  },
  {
   "cell_type": "code",
   "execution_count": 21,
   "metadata": {
    "cell_id": "1849d44b-dcf1-44a1-9255-2af66f77e9d0",
    "deepnote_app_coordinates": {
     "h": 5,
     "w": 12,
     "x": 0,
     "y": 186
    },
    "deepnote_cell_type": "code",
    "deepnote_to_be_reexecuted": true,
    "execution_millis": 205,
    "execution_start": 1643453823982,
    "source_hash": "35c74a7c",
    "tags": []
   },
   "outputs": [],
   "source": [
    "# Recompute the sets corresponding to different modes:\n",
    "sigA_off = graph.fix_variable(\"sigA\", False)\n",
    "sigA_on = graph.fix_variable(\"sigA\", True)\n",
    "\n",
    "glucose_off = graph.fix_variable(\"glucose\", False)\n",
    "glucose_on = graph.fix_variable(\"glucose\", True)\n",
    "\n",
    "mode_I = attractor.intersect(sigA_off)\n",
    "mode_II = attractor.intersect(sigA_on).intersect(glucose_off)\n",
    "mode_III = attractor.intersect(sigA_on).intersect(glucose_on)"
   ]
  },
  {
   "cell_type": "code",
   "execution_count": 22,
   "metadata": {},
   "outputs": [
    {
     "data": {
      "text/html": [
       "<div>\n",
       "<style scoped>\n",
       "    .dataframe tbody tr th:only-of-type {\n",
       "        vertical-align: middle;\n",
       "    }\n",
       "\n",
       "    .dataframe tbody tr th {\n",
       "        vertical-align: top;\n",
       "    }\n",
       "\n",
       "    .dataframe thead th {\n",
       "        text-align: right;\n",
       "    }\n",
       "</style>\n",
       "<table border=\"1\" class=\"dataframe\">\n",
       "  <thead>\n",
       "    <tr style=\"text-align: right;\">\n",
       "      <th></th>\n",
       "      <th>variable</th>\n",
       "      <th>sigA=off (I)</th>\n",
       "      <th>glucose=off (II)</th>\n",
       "      <th>glucose=on (III)</th>\n",
       "    </tr>\n",
       "  </thead>\n",
       "  <tbody>\n",
       "    <tr>\n",
       "      <th>0</th>\n",
       "      <td>acetic_acid</td>\n",
       "      <td>{'on': 100}</td>\n",
       "      <td>{'off': 100}</td>\n",
       "      <td>{'both': 100}</td>\n",
       "    </tr>\n",
       "    <tr>\n",
       "      <th>1</th>\n",
       "      <td>butyric_acid</td>\n",
       "      <td>{'both': 100}</td>\n",
       "      <td>{'off': 100}</td>\n",
       "      <td>{'both': 100}</td>\n",
       "    </tr>\n",
       "    <tr>\n",
       "      <th>2</th>\n",
       "      <td>lactic_acid</td>\n",
       "      <td>{'on': 47, 'off': 53}</td>\n",
       "      <td>{'off': 100}</td>\n",
       "      <td>{'off': 52, 'both': 48}</td>\n",
       "    </tr>\n",
       "    <tr>\n",
       "      <th>3</th>\n",
       "      <td>butanol</td>\n",
       "      <td>{'on': 100}</td>\n",
       "      <td>{'off': 100}</td>\n",
       "      <td>{'both': 100}</td>\n",
       "    </tr>\n",
       "    <tr>\n",
       "      <th>4</th>\n",
       "      <td>ethanol</td>\n",
       "      <td>{'on': 50, 'off': 50}</td>\n",
       "      <td>{'off': 100}</td>\n",
       "      <td>{'off': 81, 'both': 19}</td>\n",
       "    </tr>\n",
       "    <tr>\n",
       "      <th>5</th>\n",
       "      <td>acetone</td>\n",
       "      <td>{'on': 100}</td>\n",
       "      <td>{'off': 100}</td>\n",
       "      <td>{'both': 100}</td>\n",
       "    </tr>\n",
       "    <tr>\n",
       "      <th>6</th>\n",
       "      <td>sporulation</td>\n",
       "      <td>{'off': 100}</td>\n",
       "      <td>{'on': 100}</td>\n",
       "      <td>{'both': 100}</td>\n",
       "    </tr>\n",
       "  </tbody>\n",
       "</table>\n",
       "</div>"
      ],
      "text/plain": [
       "       variable           sigA=off (I) glucose=off (II)  \\\n",
       "0   acetic_acid            {'on': 100}     {'off': 100}   \n",
       "1  butyric_acid          {'both': 100}     {'off': 100}   \n",
       "2   lactic_acid  {'on': 47, 'off': 53}     {'off': 100}   \n",
       "3       butanol            {'on': 100}     {'off': 100}   \n",
       "4       ethanol  {'on': 50, 'off': 50}     {'off': 100}   \n",
       "5       acetone            {'on': 100}     {'off': 100}   \n",
       "6   sporulation           {'off': 100}      {'on': 100}   \n",
       "\n",
       "          glucose=on (III)  \n",
       "0            {'both': 100}  \n",
       "1            {'both': 100}  \n",
       "2  {'off': 52, 'both': 48}  \n",
       "3            {'both': 100}  \n",
       "4  {'off': 81, 'both': 19}  \n",
       "5            {'both': 100}  \n",
       "6            {'both': 100}  "
      ]
     },
     "execution_count": 22,
     "metadata": {},
     "output_type": "execute_result"
    }
   ],
   "source": [
    "# Update our \"stability analysis\" table.\n",
    "table = []\n",
    "\n",
    "for variable in [\"acetic_acid\", \"butyric_acid\", \"lactic_acid\", \"butanol\", \"ethanol\", \"acetone\", \"sporulation\"]:\n",
    "    add_row(graph, [mode_I, mode_II, mode_III], table, variable)\n",
    "    \n",
    "DataFrame(table, columns=[\"variable\", \"sigA=off (I)\", \"glucose=off (II)\", \"glucose=on (III)\"])"
   ]
  },
  {
   "cell_type": "markdown",
   "metadata": {
    "cell_id": "bb8b25f8-b403-4efa-9da8-33950f82027b",
    "deepnote_app_coordinates": {
     "h": 5,
     "w": 12,
     "x": 0,
     "y": 192
    },
    "deepnote_cell_type": "markdown",
    "tags": []
   },
   "source": [
    "From our stability analysis table, we can see that just as we expected, the inactivity of `acetic_acid` (and `butyric_acid`) in mode **III** is completely eliminated. However, if we compare this table to the previous two tables we obtained, it is also immediately obvious that this change eliminated the possibility of sporulation in mode **I**, leading to a much smaller variability of possible behaviour in this mode. In fact, the possible attractors in this mode are almost completely stable: the only variable that isn't stable is `butyric_acid` (and `butyrate`, not pictured).\n",
    "\n",
    "However, this makes perfect sense, because our new update function for `spo0A_p` now actually requires `sigA` to be active in order to initiate sporulation, which was not the case before. Hence when `sigA = off`, sporulation becomes impossible with this new update function. This is warranted, since `sigA` is a known driver of sporulation \\[4].\n",
    "\n",
    "We can also similarly explore the expression of different significant genes, just as we did before:"
   ]
  },
  {
   "cell_type": "code",
   "execution_count": 23,
   "metadata": {
    "cell_id": "18d1cfd6-4517-4ef9-92bf-721dd1f3036b",
    "deepnote_app_coordinates": {
     "h": 5,
     "w": 12,
     "x": 0,
     "y": 198
    },
    "deepnote_cell_type": "code",
    "deepnote_to_be_reexecuted": true,
    "execution_millis": 193,
    "execution_start": 1643453835999,
    "source_hash": "61e16ab5",
    "tags": []
   },
   "outputs": [
    {
     "data": {
      "text/html": [
       "<div>\n",
       "<style scoped>\n",
       "    .dataframe tbody tr th:only-of-type {\n",
       "        vertical-align: middle;\n",
       "    }\n",
       "\n",
       "    .dataframe tbody tr th {\n",
       "        vertical-align: top;\n",
       "    }\n",
       "\n",
       "    .dataframe thead th {\n",
       "        text-align: right;\n",
       "    }\n",
       "</style>\n",
       "<table border=\"1\" class=\"dataframe\">\n",
       "  <thead>\n",
       "    <tr style=\"text-align: right;\">\n",
       "      <th></th>\n",
       "      <th>variable</th>\n",
       "      <th>sigA=off (I)</th>\n",
       "      <th>glucose=off (II)</th>\n",
       "      <th>glucose=on (III)</th>\n",
       "    </tr>\n",
       "  </thead>\n",
       "  <tbody>\n",
       "    <tr>\n",
       "      <th>0</th>\n",
       "      <td>ack</td>\n",
       "      <td>{'on': 100}</td>\n",
       "      <td>{'off': 100}</td>\n",
       "      <td>{'both': 100}</td>\n",
       "    </tr>\n",
       "    <tr>\n",
       "      <th>1</th>\n",
       "      <td>adc</td>\n",
       "      <td>{'off': 100}</td>\n",
       "      <td>{'off': 100}</td>\n",
       "      <td>{'off': 50, 'both': 50}</td>\n",
       "    </tr>\n",
       "    <tr>\n",
       "      <th>2</th>\n",
       "      <td>bdhAB</td>\n",
       "      <td>{'off': 100}</td>\n",
       "      <td>{'off': 100}</td>\n",
       "      <td>{'off': 50, 'both': 50}</td>\n",
       "    </tr>\n",
       "    <tr>\n",
       "      <th>3</th>\n",
       "      <td>buk1</td>\n",
       "      <td>{'on': 100}</td>\n",
       "      <td>{'off': 100}</td>\n",
       "      <td>{'both': 100}</td>\n",
       "    </tr>\n",
       "    <tr>\n",
       "      <th>4</th>\n",
       "      <td>crt</td>\n",
       "      <td>{'on': 100}</td>\n",
       "      <td>{'off': 100}</td>\n",
       "      <td>{'both': 100}</td>\n",
       "    </tr>\n",
       "    <tr>\n",
       "      <th>5</th>\n",
       "      <td>hbd</td>\n",
       "      <td>{'on': 100}</td>\n",
       "      <td>{'off': 100}</td>\n",
       "      <td>{'both': 100}</td>\n",
       "    </tr>\n",
       "    <tr>\n",
       "      <th>6</th>\n",
       "      <td>pta</td>\n",
       "      <td>{'on': 100}</td>\n",
       "      <td>{'off': 100}</td>\n",
       "      <td>{'both': 100}</td>\n",
       "    </tr>\n",
       "  </tbody>\n",
       "</table>\n",
       "</div>"
      ],
      "text/plain": [
       "  variable  sigA=off (I) glucose=off (II)         glucose=on (III)\n",
       "0      ack   {'on': 100}     {'off': 100}            {'both': 100}\n",
       "1      adc  {'off': 100}     {'off': 100}  {'off': 50, 'both': 50}\n",
       "2    bdhAB  {'off': 100}     {'off': 100}  {'off': 50, 'both': 50}\n",
       "3     buk1   {'on': 100}     {'off': 100}            {'both': 100}\n",
       "4      crt   {'on': 100}     {'off': 100}            {'both': 100}\n",
       "5      hbd   {'on': 100}     {'off': 100}            {'both': 100}\n",
       "6      pta   {'on': 100}     {'off': 100}            {'both': 100}"
      ]
     },
     "execution_count": 23,
     "metadata": {},
     "output_type": "execute_result"
    }
   ],
   "source": [
    "gene_table = []\n",
    "\n",
    "for variable in [\"ack\", \"adc\", \"bdhAB\", \"buk1\", \"crt\", \"hbd\", \"pta\"]:\n",
    "    add_row(graph, [mode_I, mode_II, mode_III], gene_table, variable)\n",
    "\n",
    "DataFrame(gene_table, columns=[\"variable\", \"sigA=off (I)\", \"glucose=off (II)\", \"glucose=on (III)\"])"
   ]
  },
  {
   "cell_type": "markdown",
   "metadata": {
    "cell_id": "3af78a9d-c903-4941-a709-284fca352616",
    "deepnote_app_coordinates": {
     "h": 5,
     "w": 12,
     "x": 0,
     "y": 204
    },
    "deepnote_cell_type": "markdown",
    "tags": []
   },
   "source": [
    "Here we see again that ruling our sporulation in mode **I** leaves us with a much more \"stable\" profile in this mode. But for the remaining modes, the results remain unchainged compared to the original model. At this point, we could conclude that `f_2` and `f_3` simply play no significant role in the behaviour of our model, and we need more evidence to conclusively select either function.\n",
    "\n",
    "However, we can consider one more criterium in selecting the update functions. In the absence of other experimental data, assuming our model is in mode **III**, we would expect the model to describe a complex behaviour when almost the whole pathway is active. Consequently, this means that the attractors should be fairly large in terms of state (vertex) count. To asses this, we can test how the admissible attractor states change when we fix different output values of `f_2` and `f_3`. \n",
    "\n",
    "To assess this, we can look at the number of attractor states that are valid when we set a specific row of the function table of `f_2` and `f_3`. For each bit of both function tables, we compute the \"impact\" of that particular row on the number of attractor states. Here, `100` means that the sets of attractor states appearing when `row=true` and `row=false` are fully disjoint, whereas impact `0` means that fixing this `row` will not change the attractor states in any way. Furthermore, we will be looking at `true`/`false` distribution *skew*: here, the two numbers together give `100%` and represent a preference towards a particular value. That is, selecting the output value with a higher skew will result in more attractor states, proprotionally to the previously mentioned \"impact\"."
   ]
  },
  {
   "cell_type": "code",
   "execution_count": 24,
   "metadata": {
    "cell_id": "ee7451be-7ad5-4b73-a3c0-94cb1d81a8c8",
    "deepnote_app_coordinates": {
     "h": 5,
     "w": 12,
     "x": 0,
     "y": 210
    },
    "deepnote_cell_type": "code",
    "deepnote_to_be_reexecuted": true,
    "execution_millis": 612,
    "execution_start": 1643453991527,
    "source_hash": "d119119d",
    "tags": []
   },
   "outputs": [
    {
     "name": "stdout",
     "output_type": "stream",
     "text": [
      "Impact of f_2: \n",
      "[1, 1] {'true': 0.0, 'false': 100.0, 'impact': 0.007849700778291481}\n",
      "[0, 1] {'true': 0.0, 'false': 100.0, 'impact': 0.007849700778291481}\n",
      "[1, 0] {'true': 99.99816087068469, 'false': 0.0018391293153125906, 'impact': 0.007849299545830602}\n",
      "[0, 0] {'true': 0.0018391293153125906, 'false': 99.99816087068469, 'impact': 0.007849299545830602}\n",
      "=====\n",
      "Impact of f_3: \n",
      "[1, 1, 1] {'true': 100.0, 'false': 0.0, 'impact': 0.07083481371332444}\n",
      "[0, 1, 1]  - no influence\n",
      "[1, 0, 1] {'true': 100.0, 'false': 0.0, 'impact': 100.0}\n",
      "[0, 0, 1]  - no influence\n",
      "[1, 1, 0]  - no influence\n",
      "[0, 1, 0] {'true': 0.0, 'false': 100.0, 'impact': 100.0}\n",
      "[1, 0, 0] {'true': 100.0, 'false': 0.0, 'impact': 99.89876809810677}\n",
      "[0, 0, 0]  - no influence\n"
     ]
    }
   ],
   "source": [
    "def check_attractor_size(graph, function, row, attractor):\n",
    "    row_true = graph.fix_explicit_function(function, row, True)\n",
    "    row_false = graph.fix_explicit_function(function, row, False)\n",
    "    \n",
    "    attractor_vertices_true = attractor.intersect_colors(row_true).vertices()\n",
    "    attractor_vertices_false = attractor.intersect_colors(row_false).vertices()\n",
    "    \n",
    "    only_true = attractor_vertices_true.minus(attractor_vertices_false)\n",
    "    only_false = attractor_vertices_false.minus(attractor_vertices_true)\n",
    "    \n",
    "    all_size = only_true.cardinality() + only_false.cardinality()\n",
    "    if not int(all_size) == 0:\n",
    "        true_percent = 100.0 * only_true.cardinality() / all_size\n",
    "        false_percent = 100.0 * only_false.cardinality() / all_size\n",
    "        impact = 100.0 * all_size / attractor.vertices().cardinality()\n",
    "\n",
    "        print([int(x) for x in row], { \"true\": true_percent, \"false\": false_percent, \"impact\": impact })\n",
    "    else:\n",
    "        print([int(x) for x in row], \" - no influence\")\n",
    "\n",
    "def table_rows(arity):\n",
    "    \"\"\"Build a list of input vectors representing the rows of a function table.\"\"\"\n",
    "    if arity == 0:\n",
    "        return [[]]\n",
    "    else:\n",
    "        rows = table_rows(arity - 1)\n",
    "        return [(x + [True]) for x in rows] + [(x + [False]) for x in rows]\n",
    "\n",
    "print(\"Impact of f_2: \")\n",
    "for row in table_rows(2):\n",
    "    check_attractor_size(graph, \"f_2\", row, mode_III)\n",
    "\n",
    "print(\"=====\")\n",
    "print(\"Impact of f_3: \")\n",
    "for row in table_rows(3):\n",
    "    check_attractor_size(graph, \"f_3\", row, mode_III)"
   ]
  },
  {
   "cell_type": "markdown",
   "metadata": {
    "cell_id": "d4628b3a-a089-4301-8c17-7a4e5e36f758",
    "deepnote_app_coordinates": {
     "h": 5,
     "w": 12,
     "x": 0,
     "y": 216
    },
    "deepnote_cell_type": "markdown",
    "tags": []
   },
   "source": [
    "First, let us look at the function `f_2`. Compared to `f_3`, it clearly has smaller impact on the number of attractor states (only `0.008%` of attractor states depend on each row of this function). Now, see that `f_2[0,1]` and `f_2[1,1]` are \"perfectly skewed\" towards the value `false` (i.e. there is no benefit in picking `true` in terms of attractor size). This effectively means that to maximise the number of attractor states, we should fix `f_2(A, B) = !B & f_2'(A)`. Finally, to determine `f_2'`, we look at `f_2[0,0]` and `f_2[1,0]`. Given our current setting, the choice of these two logical parameters effectively dictates whether `cell_membrane` regulates `glucose___PTS` positively or negatively, with the skew suggesting that positive regulation leads to more attractor states. Consequently, we end up with `f_2(A, B) = A & !B`, giving us the update function for `glucose___PTS` as `glucose & PTS & cell_membrane & !saturation`.\n",
    "\n",
    "Now, consider function `f_3`. Here, we have two values (`f_3[0,1,0] = false` and `f_3[1,0,1] = true`) with `impact: 100` and a \"perfect skew\": these function rows simply need to be fixed if we want to obtain a function that is consistent with the regulatory graph at all. \n",
    "\n",
    "Notice that all the remaining function rows also have perfect skew, only the impact is reduced. This means that selecting the suggested output value will not eliminate any attractor states. However, note that even if we fix all the values as suggested, we still have several function rows with ambiguous values that have no influence on the number of attractor states. \n",
    "\n",
    "To resolve this ambiguity, we look at the original (inconsistent) update function: the closest modification which also satisfies all the requirements we discussed here gives us `f_3(A, B, C) = A & (!B | C)`, which results in the update function `spo0A_p & sigH & (spoIIE | !spoIIAA)`. But note that there are several other possible functions which produce exactly the same attractor states."
   ]
  },
  {
   "cell_type": "code",
   "execution_count": 25,
   "metadata": {
    "cell_id": "5c28a656-4dac-4826-ae15-01bbddebffae",
    "deepnote_app_coordinates": {
     "h": 5,
     "w": 12,
     "x": 0,
     "y": 228
    },
    "deepnote_cell_type": "code",
    "deepnote_output_heights": [
     21
    ],
    "deepnote_to_be_reexecuted": true,
    "execution_millis": 18,
    "execution_start": 1643454470541,
    "source_hash": "648d34a4",
    "tags": []
   },
   "outputs": [],
   "source": [
    "# Reload the model again\n",
    "model = BooleanNetwork.from_file('butanol-pathway.sbml')\n",
    "\n",
    "# Fix update functions using the repaired values\n",
    "f_spo0A_p = \"spo0A & phosphorylation & sigA & !sporulation\"\n",
    "f_glucose_PTS = \"glucose & PTS & cell_membrane & !sporulation\"\n",
    "f_spoIIAB = \"spo0A_p & sigH & (spoIIE | !spoIIAA)\"\n",
    "\n",
    "model.set_update_function(\"spo0A_p\", f_spo0A_p)\n",
    "model.set_update_function(\"glucose___PTS\", f_glucose_PTS)\n",
    "model.set_update_function(\"spoIIAB\", f_spoIIAB)\n",
    "\n",
    "Path('butanol-pathway-repaired.sbml').write_text(model.to_sbml());"
   ]
  },
  {
   "cell_type": "markdown",
   "metadata": {
    "cell_id": "55b631ed-f49e-4604-abcd-a3d27ff7cc3c",
    "deepnote_app_coordinates": {
     "h": 5,
     "w": 12,
     "x": 0,
     "y": 222
    },
    "deepnote_cell_type": "markdown",
    "tags": []
   },
   "source": [
    "### Discussion\n",
    "\n",
    "In this case study, we expanded on the results presented in \\[1]. Specifically, we perform a full attractor analysis of the proposed signalling pathway. We show that out of the `13` available logical parameters, the long-term behaviour of the model is primarily sensitive to two: `glucose` and `sigA`. We then cross-reference this attractor analysis with the simulation results and in-vivo measurements, including the stability of pathway products (`butanol`, `acetone`, `ethanol`, and other substances measured in \\[1]). We show that the attractors of the signalling pathway are indeed consistent with the known measurements and simulation. \n",
    "\n",
    "Additionally, we uncovered a small percentage of parametrisations which enable intermittent `ethanol` production. Production of `ethanol` was observed in small quantities during in-vivo measurements, but was not reproduced in network simulations. Now we have a plausible explanation for this behaviour. Similarly, for `lactic_acid`, which was the second least abundant substance during in-vivo measurements (after `ethanol`), we see a significant portion of parametrisations (`52%`) with `lactic_acid` production disabled. This suggests the network is correctly reflecting the real-world dynamics of these variables. \n",
    "\n",
    "However, we found that in the absence of `sigA`, the network admits various biologically unrealistic outcomes. In particular, sporulation can be active while the pythway is producing products. We have also identified several logical inconsistencies between network's update functions and its regulatory graph. We thus attempted to repair the network by parametrising its problematic update functions. \n",
    "\n",
    "We identified a single instantiation of the `spo0A+p` update function which both reduces unrealistic behaviour when `sigA` is inactive and preserves the agreement with in-vivo measurements. To identify the remaining update functions which do not seem to influence the network products, we analysed their impact on the total number of attractor states. Here, we discovered that the update function of `spoIIAB` has significant impact on the number of attractor states (`99.9%` of such states can be eliminated by the choice of this function). Subsequently, we selected instantiations for `spoIIAB` and `glucose___PTS` functions which maximise attractor states. We provide this repaired network in `butanol-pathway-repaired.sbml`. "
   ]
  },
  {
   "cell_type": "markdown",
   "metadata": {
    "cell_id": "68c66fa3-b3ac-46e4-a476-c540b46fe8f7",
    "deepnote_app_coordinates": {
     "h": 5,
     "w": 12,
     "x": 0,
     "y": 6
    },
    "deepnote_cell_type": "markdown",
    "tags": []
   },
   "source": [
    "### References\n",
    "\n",
    "\\[1] Jana Musilová. “Signaling Pathway for Butanol Produc- tion in Solventogenic Clostridium Bacteria.” MA thesis. Brno University of Technology, 2019.\n",
    "\n",
    "\\[2] Patakova, Petra, et al. \"Acidogenesis, solventogenesis, metabolic stress response and life cycle changes in Clostridium beijerinckii NRRL B-598 at the transcriptomic level.\" Scientific reports 9.1 (2019): 1-21.\n",
    "\n",
    "\\[3] Sedlar, Karel, et al. \"Transcription profiling of butanol producer Clostridium beijerinckii NRRL B-598 using RNA-Seq.\" BMC genomics 19.1 (2018): 1-13.\n",
    "\n",
    "\\[4] Al-Hinai, Mohab A., Shawn W. Jones, and Eleftherios T. Papoutsakis. \"The Clostridium sporulation programs: diversity and preservation of endospore differentiation.\" Microbiology and Molecular Biology Reviews 79.1 (2015): 19-37."
   ]
  }
 ],
 "metadata": {
  "deepnote": {
   "is_reactive": false
  },
  "deepnote_app_layout": "article",
  "deepnote_execution_queue": [
   {
    "cellId": "6b603d3f-c1c6-4796-8a89-8a49f3466ece",
    "msgId": "00667f3e-cef7-4468-abb5-83307f25938f",
    "sessionId": "de4375d5-161c-45ea-a59c-2b2349f00788"
   }
  ],
  "deepnote_notebook_id": "32905b34-1fa0-4719-afe0-f077b6225ea9",
  "kernelspec": {
   "display_name": "Python 3 (ipykernel)",
   "language": "python",
   "name": "python3"
  },
  "language_info": {
   "codemirror_mode": {
    "name": "ipython",
    "version": 3
   },
   "file_extension": ".py",
   "mimetype": "text/x-python",
   "name": "python",
   "nbconvert_exporter": "python",
   "pygments_lexer": "ipython3",
   "version": "3.10.6"
  }
 },
 "nbformat": 4,
 "nbformat_minor": 2
}
