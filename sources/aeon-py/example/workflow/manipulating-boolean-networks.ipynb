{
 "cells": [
  {
   "cell_type": "markdown",
   "metadata": {
    "cell_id": "4669040e34844375abaf12b9dfd6ac03",
    "deepnote_app_coordinates": {
     "h": 5,
     "w": 12,
     "x": 0,
     "y": null
    },
    "deepnote_cell_height": 344.578125,
    "deepnote_cell_type": "markdown",
    "tags": []
   },
   "source": [
    "# Working with parametrised Boolean networks\n",
    "\n",
    "This part of AEON.py library offers basic functionality for working with Boolean networks. In particular, it supports **three major formats** (`.bnet`, `.sbml`, and `.aeon`), can perform basic **integrity checks** (e.g. that an update function only uses variables that are actually declared as regulators, etc.), and can be used to run simple operations on the regulatory graph (like decomposition into **strongly connected components**).\n",
    "\n",
    "However, there are two features in particular that (as of now) are uniquely implemented only in this library:\n",
    " \n",
    " - Support for fully symbolic exploration of the asynchronous dynamics of a Boolean network (using `SymbolicAsyncGraph`). With this functionality, you can typically explore the dynamics of networks with tens or hundreds of variables without significant state space explosion.\n",
    " - Support for \"parametrised\" networks, where the transitions possibly depend on unknown (uninterpreted) functions. For example, this means that if your data isn't sufficient to actually produce a single \"correct\" network, you can automatically work with a collection of networks with different dynamical constraints.\n",
    "\n",
    "As always, the library lives on PyPi, so you can simple get it through pip (`pip install biodivine_boolean_networks`), and use it:"
   ]
  },
  {
   "cell_type": "code",
   "execution_count": 1,
   "metadata": {
    "cell_id": "24d640a8189342088b67ad6a3e87b13b",
    "deepnote_app_coordinates": {
     "h": 5,
     "w": 12,
     "x": 0,
     "y": 6
    },
    "deepnote_cell_height": 81,
    "deepnote_cell_type": "code",
    "deepnote_to_be_reexecuted": false,
    "execution_millis": 41,
    "execution_start": 1647976199125,
    "source_hash": "1370dff5",
    "tags": []
   },
   "outputs": [],
   "source": [
    "from biodivine_aeon import *"
   ]
  },
  {
   "cell_type": "markdown",
   "metadata": {
    "cell_id": "cb5d082e66a349789a1d0d25f2f7f236",
    "deepnote_app_coordinates": {
     "h": 5,
     "w": 12,
     "x": 0,
     "y": 12
    },
    "deepnote_cell_height": 52.390625,
    "deepnote_cell_type": "markdown",
    "tags": []
   },
   "source": [
    "If you have an existing model that you want to work with, you can load it right away as a Boolean network. Here, we will use (for demonstration) a very simple model with 5 variables:"
   ]
  },
  {
   "cell_type": "code",
   "execution_count": 2,
   "metadata": {
    "cell_id": "305c40842b744896ab2927ce2b3272f0",
    "deepnote_app_coordinates": {
     "h": 5,
     "w": 12,
     "x": 0,
     "y": 18
    },
    "deepnote_cell_height": 280.1875,
    "deepnote_cell_type": "code",
    "deepnote_output_heights": [
     21.1875
    ],
    "deepnote_to_be_reexecuted": false,
    "execution_millis": 3,
    "execution_start": 1647976199167,
    "source_hash": "d7a768eb",
    "tags": []
   },
   "outputs": [
    {
     "data": {
      "text/plain": [
       "5"
      ]
     },
     "execution_count": 2,
     "metadata": {},
     "output_type": "execute_result"
    }
   ],
   "source": [
    "from pathlib import Path\n",
    "\n",
    "g2a = BooleanNetwork.from_file('g2a.sbml')\n",
    "\n",
    "# You can also use:\n",
    "# BooleanNetwork.from_sbml(...)\n",
    "# BooleanNetwork.from_bnet(...)\n",
    "# BooleanNetwork.from_aeon(...)\n",
    "# However, these accept the model string representation, not the file path.\n",
    "\n",
    "g2a.num_vars()"
   ]
  },
  {
   "cell_type": "markdown",
   "metadata": {
    "cell_id": "cf2a1f97459b4be0923aa0fa69fb17f0",
    "deepnote_app_coordinates": {
     "h": 5,
     "w": 12,
     "x": 0,
     "y": 60
    },
    "deepnote_cell_height": 74.796875,
    "deepnote_cell_type": "markdown",
    "tags": []
   },
   "source": [
    "Similarly, if you already have a Boolean network, you can easily output it to one of these formats using a `to_*` method. Just keep in mind that every format has slightly different capabilities (for example, `bnet` does not keep track of the underlying regulatory graph, so this information will be lost)."
   ]
  },
  {
   "cell_type": "code",
   "execution_count": 3,
   "metadata": {
    "cell_id": "debd13d8643a425a81aa8a28e0faa600",
    "deepnote_app_coordinates": {
     "h": 5,
     "w": 12,
     "x": 0,
     "y": 72
    },
    "deepnote_cell_height": 118.1875,
    "deepnote_cell_type": "code",
    "deepnote_output_heights": [
     21.1875
    ],
    "deepnote_to_be_reexecuted": false,
    "execution_millis": 8,
    "execution_start": 1647976199168,
    "source_hash": "f32c082b",
    "tags": []
   },
   "outputs": [
    {
     "name": "stdout",
     "output_type": "stream",
     "text": [
      "<?xml version='1.0' encoding='UTF-8' standalone='no'?><sbml xmlns=\"http://www.sbml.org/sbml/level3/version1/core\" layout:required=\"false\" level=\"3\" qual:required=\"true\" xmlns:layout=\"http://www.sbml.org/sbml/level3/version1/layout/version1\" version=\"1\" xmlns:qual=\"http://www.sbml.org/sbml/level3/version1/qual/version1\"><model><qual:listOfQualitativeSpecies xmlns:qual=\"http://www.sbml.org/sbml/level3/version1/qual/version1\"><qual:qualitativeSpecies qual:maxLevel=\"1\" qual:constant=\"false\" qual:name=\"CcrM\" qual:id=\"CcrM\"/><qual:qualitativeSpecies qual:maxLevel=\"1\" qual:constant=\"false\" qual:name=\"CtrA\" qual:id=\"CtrA\"/><qual:qualitativeSpecies qual:maxLevel=\"1\" qual:constant=\"false\" qual:name=\"DnaA\" qual:id=\"DnaA\"/><qual:qualitativeSpecies qual:maxLevel=\"1\" qual:constant=\"false\" qual:name=\"GcrA\" qual:id=\"GcrA\"/><qual:qualitativeSpecies qual:maxLevel=\"1\" qual:constant=\"false\" qual:name=\"SciP\" qual:id=\"SciP\"/></qual:listOfQualitativeSpecies><qual:listOfTransitions xmlns:qual=\"http://www.sbml.org/sbml/level3/version1/qual/version1\"><qual:transition qual:id=\"tr_CcrM\"><qual:listOfInputs><qual:input qual:qualitativeSpecies=\"CcrM\" qual:transitionEffect=\"none\" qual:sign=\"negative\" qual:id=\"tr_CcrM_in_CcrM\" essential=\"true\"/><qual:input qual:qualitativeSpecies=\"CtrA\" qual:transitionEffect=\"none\" qual:sign=\"positive\" qual:id=\"tr_CcrM_in_CtrA\" essential=\"true\"/><qual:input qual:qualitativeSpecies=\"SciP\" qual:transitionEffect=\"none\" qual:sign=\"negative\" qual:id=\"tr_CcrM_in_SciP\" essential=\"true\"/></qual:listOfInputs><qual:listOfOutputs><qual:output qual:qualitativeSpecies=\"CcrM\" qual:transitionEffect=\"assignmentLevel\" qual:id=\"tr_CcrM_out\"/></qual:listOfOutputs><qual:listOfFunctionTerms><qual:defaultTerm qual:resultLevel=\"0\"/><qual:functionTerm qual:resultLevel=\"1\"><math xmlns=\"http://www.w3.org/1998/Math/MathML\"><apply><and/><apply><and/><apply><eq/><ci>CtrA</ci><cn type=\"integer\">1</cn></apply><apply><not/><apply><eq/><ci>CcrM</ci><cn type=\"integer\">1</cn></apply></apply></apply><apply><not/><apply><eq/><ci>SciP</ci><cn type=\"integer\">1</cn></apply></apply></apply></math></qual:functionTerm></qual:listOfFunctionTerms></qual:transition><qual:transition qual:id=\"tr_CtrA\"><qual:listOfInputs><qual:input qual:qualitativeSpecies=\"CcrM\" qual:transitionEffect=\"none\" qual:sign=\"negative\" qual:id=\"tr_CtrA_in_CcrM\" essential=\"true\"/><qual:input qual:qualitativeSpecies=\"CtrA\" qual:transitionEffect=\"none\" qual:sign=\"positive\" qual:id=\"tr_CtrA_in_CtrA\" essential=\"true\"/><qual:input qual:qualitativeSpecies=\"GcrA\" qual:transitionEffect=\"none\" qual:sign=\"positive\" qual:id=\"tr_CtrA_in_GcrA\" essential=\"true\"/><qual:input qual:qualitativeSpecies=\"SciP\" qual:transitionEffect=\"none\" qual:sign=\"negative\" qual:id=\"tr_CtrA_in_SciP\" essential=\"true\"/></qual:listOfInputs><qual:listOfOutputs><qual:output qual:qualitativeSpecies=\"CtrA\" qual:transitionEffect=\"assignmentLevel\" qual:id=\"tr_CtrA_out\"/></qual:listOfOutputs><qual:listOfFunctionTerms><qual:defaultTerm qual:resultLevel=\"0\"/><qual:functionTerm qual:resultLevel=\"1\"><math xmlns=\"http://www.w3.org/1998/Math/MathML\"><apply><or/><apply><or/><false/><apply><and/><apply><and/><apply><and/><apply><and/><apply><not/><apply><eq/><ci>CtrA</ci><cn type=\"integer\">1</cn></apply></apply><apply><eq/><ci>GcrA</ci><cn type=\"integer\">1</cn></apply></apply><apply><not/><apply><eq/><ci>CcrM</ci><cn type=\"integer\">1</cn></apply></apply></apply><apply><not/><apply><eq/><ci>SciP</ci><cn type=\"integer\">1</cn></apply></apply></apply><true/></apply></apply><apply><and/><apply><and/><apply><eq/><ci>CtrA</ci><cn type=\"integer\">1</cn></apply><apply><not/><apply><eq/><ci>CcrM</ci><cn type=\"integer\">1</cn></apply></apply></apply><apply><not/><apply><eq/><ci>SciP</ci><cn type=\"integer\">1</cn></apply></apply></apply></apply></math></qual:functionTerm></qual:listOfFunctionTerms></qual:transition><qual:transition qual:id=\"tr_DnaA\"><qual:listOfInputs><qual:input qual:qualitativeSpecies=\"CcrM\" qual:transitionEffect=\"none\" qual:sign=\"positive\" qual:id=\"tr_DnaA_in_CcrM\" essential=\"true\"/><qual:input qual:qualitativeSpecies=\"CtrA\" qual:transitionEffect=\"none\" qual:sign=\"positive\" qual:id=\"tr_DnaA_in_CtrA\" essential=\"true\"/><qual:input qual:qualitativeSpecies=\"DnaA\" qual:transitionEffect=\"none\" qual:sign=\"negative\" qual:id=\"tr_DnaA_in_DnaA\" essential=\"true\"/><qual:input qual:qualitativeSpecies=\"GcrA\" qual:transitionEffect=\"none\" qual:sign=\"negative\" qual:id=\"tr_DnaA_in_GcrA\" essential=\"true\"/></qual:listOfInputs><qual:listOfOutputs><qual:output qual:qualitativeSpecies=\"DnaA\" qual:transitionEffect=\"assignmentLevel\" qual:id=\"tr_DnaA_out\"/></qual:listOfOutputs><qual:listOfFunctionTerms><qual:defaultTerm qual:resultLevel=\"0\"/><qual:functionTerm qual:resultLevel=\"1\"><math xmlns=\"http://www.w3.org/1998/Math/MathML\"><apply><and/><apply><and/><apply><and/><apply><eq/><ci>CtrA</ci><cn type=\"integer\">1</cn></apply><apply><not/><apply><eq/><ci>GcrA</ci><cn type=\"integer\">1</cn></apply></apply></apply><apply><not/><apply><eq/><ci>DnaA</ci><cn type=\"integer\">1</cn></apply></apply></apply><apply><eq/><ci>CcrM</ci><cn type=\"integer\">1</cn></apply></apply></math></qual:functionTerm></qual:listOfFunctionTerms></qual:transition><qual:transition qual:id=\"tr_GcrA\"><qual:listOfInputs><qual:input qual:qualitativeSpecies=\"CtrA\" qual:transitionEffect=\"none\" qual:sign=\"negative\" qual:id=\"tr_GcrA_in_CtrA\" essential=\"true\"/><qual:input qual:qualitativeSpecies=\"DnaA\" qual:transitionEffect=\"none\" qual:sign=\"positive\" qual:id=\"tr_GcrA_in_DnaA\" essential=\"true\"/></qual:listOfInputs><qual:listOfOutputs><qual:output qual:qualitativeSpecies=\"GcrA\" qual:transitionEffect=\"assignmentLevel\" qual:id=\"tr_GcrA_out\"/></qual:listOfOutputs><qual:listOfFunctionTerms><qual:defaultTerm qual:resultLevel=\"0\"/><qual:functionTerm qual:resultLevel=\"1\"><math xmlns=\"http://www.w3.org/1998/Math/MathML\"><apply><and/><apply><not/><apply><eq/><ci>CtrA</ci><cn type=\"integer\">1</cn></apply></apply><apply><eq/><ci>DnaA</ci><cn type=\"integer\">1</cn></apply></apply></math></qual:functionTerm></qual:listOfFunctionTerms></qual:transition><qual:transition qual:id=\"tr_SciP\"><qual:listOfInputs><qual:input qual:qualitativeSpecies=\"CtrA\" qual:transitionEffect=\"none\" qual:sign=\"positive\" qual:id=\"tr_SciP_in_CtrA\" essential=\"true\"/><qual:input qual:qualitativeSpecies=\"DnaA\" qual:transitionEffect=\"none\" qual:sign=\"negative\" qual:id=\"tr_SciP_in_DnaA\" essential=\"true\"/></qual:listOfInputs><qual:listOfOutputs><qual:output qual:qualitativeSpecies=\"SciP\" qual:transitionEffect=\"assignmentLevel\" qual:id=\"tr_SciP_out\"/></qual:listOfOutputs><qual:listOfFunctionTerms><qual:defaultTerm qual:resultLevel=\"0\"/><qual:functionTerm qual:resultLevel=\"1\"><math xmlns=\"http://www.w3.org/1998/Math/MathML\"><apply><and/><apply><eq/><ci>CtrA</ci><cn type=\"integer\">1</cn></apply><apply><not/><apply><eq/><ci>DnaA</ci><cn type=\"integer\">1</cn></apply></apply></apply></math></qual:functionTerm></qual:listOfFunctionTerms></qual:transition></qual:listOfTransitions></model></sbml>\n"
     ]
    }
   ],
   "source": [
    "print(g2a.to_sbml())"
   ]
  },
  {
   "cell_type": "code",
   "execution_count": 4,
   "metadata": {
    "cell_id": "65b8e22705a948629b19951de5476c98",
    "deepnote_app_coordinates": {
     "h": 5,
     "w": 12,
     "x": 0,
     "y": 66
    },
    "deepnote_cell_height": 118.1875,
    "deepnote_cell_type": "code",
    "deepnote_output_heights": [
     21.1875
    ],
    "deepnote_to_be_reexecuted": false,
    "execution_millis": 16,
    "execution_start": 1647976199184,
    "source_hash": "3505624a",
    "tags": []
   },
   "outputs": [
    {
     "name": "stdout",
     "output_type": "stream",
     "text": [
      "targets,factors\n",
      "CcrM, ((CtrA & !CcrM) & !SciP)\n",
      "CtrA, (((CtrA & !CtrA) | ((((!CtrA & GcrA) & !CcrM) & !SciP) & (CtrA | !CtrA))) | ((CtrA & !CcrM) & !SciP))\n",
      "DnaA, (((CtrA & !GcrA) & !DnaA) & CcrM)\n",
      "GcrA, (!CtrA & DnaA)\n",
      "SciP, (CtrA & !DnaA)\n",
      "\n"
     ]
    }
   ],
   "source": [
    "print(g2a.to_bnet())"
   ]
  },
  {
   "cell_type": "code",
   "execution_count": 5,
   "metadata": {
    "cell_id": "32b9eb7b0c2a407ab4b0d12dc7e342a9",
    "deepnote_app_coordinates": {
     "h": 5,
     "w": 12,
     "x": 0,
     "y": 78
    },
    "deepnote_cell_height": 118.1875,
    "deepnote_cell_type": "code",
    "deepnote_output_heights": [
     21.1875
    ],
    "deepnote_to_be_reexecuted": false,
    "execution_millis": 7,
    "execution_start": 1647976199211,
    "source_hash": "6de5c714",
    "tags": []
   },
   "outputs": [
    {
     "name": "stdout",
     "output_type": "stream",
     "text": [
      "CtrA -> CtrA\n",
      "GcrA -> CtrA\n",
      "CcrM -| CtrA\n",
      "SciP -| CtrA\n",
      "CtrA -| GcrA\n",
      "DnaA -> GcrA\n",
      "CtrA -> DnaA\n",
      "GcrA -| DnaA\n",
      "DnaA -| DnaA\n",
      "CcrM -> DnaA\n",
      "CtrA -> CcrM\n",
      "CcrM -| CcrM\n",
      "SciP -| CcrM\n",
      "CtrA -> SciP\n",
      "DnaA -| SciP\n",
      "$CcrM: ((CtrA & !CcrM) & !SciP)\n",
      "$CtrA: ((false | ((((!CtrA & GcrA) & !CcrM) & !SciP) & true)) | ((CtrA & !CcrM) & !SciP))\n",
      "$DnaA: (((CtrA & !GcrA) & !DnaA) & CcrM)\n",
      "$GcrA: (!CtrA & DnaA)\n",
      "$SciP: (CtrA & !DnaA)\n",
      "\n"
     ]
    }
   ],
   "source": [
    "print(g2a.to_aeon())"
   ]
  },
  {
   "cell_type": "markdown",
   "metadata": {
    "cell_id": "e447de2d632f4c09ba07ce2a6d1a959a",
    "deepnote_app_coordinates": {
     "h": 5,
     "w": 12,
     "x": 0,
     "y": 24
    },
    "deepnote_cell_height": 167.59375,
    "deepnote_cell_type": "markdown",
    "tags": []
   },
   "source": [
    "### Regulatory Graphs\n",
    "\n",
    "Now, if you want to create your network in code, you have to first create its `RegulatoryGraph`. A regulatory graph consists simply of variables connected using regulation edges. Each regulation edge can have a monotonicity (`activation` or `inhibition`), and can be observable (`true` or `false`). Monotonicity means that once we try to assign actual Boolean function to this regulation, it must be non-decreasing or non-increasing in the input coresponding to the regulator. Meanwhile, an observable regulation must have an impact on the regulated variable, while non-observable may simply omit the regulation."
   ]
  },
  {
   "cell_type": "code",
   "execution_count": 6,
   "metadata": {
    "cell_id": "03835541c235404e8a212b66a92926e2",
    "deepnote_app_coordinates": {
     "h": 5,
     "w": 12,
     "x": 0,
     "y": 30
    },
    "deepnote_cell_height": 154.1875,
    "deepnote_cell_type": "code",
    "deepnote_output_heights": [
     21.1875
    ],
    "deepnote_to_be_reexecuted": false,
    "execution_millis": 9,
    "execution_start": 1647976199228,
    "source_hash": "a6fe505c",
    "tags": []
   },
   "outputs": [
    {
     "data": {
      "text/plain": [
       "[VariableId(0), VariableId(1), VariableId(2)]"
      ]
     },
     "execution_count": 6,
     "metadata": {},
     "output_type": "execute_result"
    }
   ],
   "source": [
    "# To create a regulatory graph, you give it a list of variables that you want to create\n",
    "rg = RegulatoryGraph([\"a\", \"b\", \"c\"])\n",
    "rg.variables()"
   ]
  },
  {
   "cell_type": "markdown",
   "metadata": {
    "cell_id": "d260692233d04a6a9e9c71507a1e27d7",
    "deepnote_app_coordinates": {
     "h": 5,
     "w": 12,
     "x": 0,
     "y": 42
    },
    "deepnote_cell_height": 111.1875,
    "deepnote_cell_type": "markdown",
    "tags": []
   },
   "source": [
    "Notice that the variables in the regulatory graph are identified using `VariableId` objects. This is mostly to avoid working with name strings outside of the Boolean network or regulatory graph in Rust. However, most Python bindings should happily accept both a variable name or a `VariableId` object.\n",
    "\n",
    "You can always translate between the two easily:"
   ]
  },
  {
   "cell_type": "code",
   "execution_count": 7,
   "metadata": {
    "cell_id": "581ec020d40d4397b707fa908e9b23dc",
    "deepnote_app_coordinates": {
     "h": 5,
     "w": 12,
     "x": 0,
     "y": 48
    },
    "deepnote_cell_height": 118.1875,
    "deepnote_cell_type": "code",
    "deepnote_output_heights": [
     21.1875
    ],
    "deepnote_to_be_reexecuted": false,
    "execution_millis": 1,
    "execution_start": 1647976199277,
    "source_hash": "6922d745",
    "tags": []
   },
   "outputs": [
    {
     "data": {
      "text/plain": [
       "'b'"
      ]
     },
     "execution_count": 7,
     "metadata": {},
     "output_type": "execute_result"
    }
   ],
   "source": [
    "rg.get_variable_name(rg.variables()[1])"
   ]
  },
  {
   "cell_type": "code",
   "execution_count": 8,
   "metadata": {
    "cell_id": "309d484bfb0c4e1cb3d29bef38a8fcf2",
    "deepnote_app_coordinates": {
     "h": 5,
     "w": 12,
     "x": 0,
     "y": 54
    },
    "deepnote_cell_height": 118.1875,
    "deepnote_cell_type": "code",
    "deepnote_output_heights": [
     21.1875
    ],
    "deepnote_to_be_reexecuted": false,
    "execution_millis": 3,
    "execution_start": 1647976199278,
    "source_hash": "2c59a712",
    "tags": []
   },
   "outputs": [
    {
     "data": {
      "text/plain": [
       "VariableId(2)"
      ]
     },
     "execution_count": 8,
     "metadata": {},
     "output_type": "execute_result"
    }
   ],
   "source": [
    "rg.find_variable(\"c\")"
   ]
  },
  {
   "cell_type": "markdown",
   "metadata": {
    "cell_id": "c38e44078d7f4e7aaaaeae3009da3ee3",
    "deepnote_app_coordinates": {
     "h": 5,
     "w": 12,
     "x": 0,
     "y": 84
    },
    "deepnote_cell_height": 52.390625,
    "deepnote_cell_type": "markdown",
    "tags": []
   },
   "source": [
    "Now, we can start adding regulations to our graph. Notice that monotonicity and observability are optional and will use default value when not provided."
   ]
  },
  {
   "cell_type": "code",
   "execution_count": 9,
   "metadata": {
    "cell_id": "7ffc7ed65e1948eeb503c5495ca38c19",
    "deepnote_app_coordinates": {
     "h": 5,
     "w": 12,
     "x": 0,
     "y": 36
    },
    "deepnote_cell_height": 396.5625,
    "deepnote_cell_type": "code",
    "deepnote_output_heights": [
     155.5625
    ],
    "deepnote_to_be_reexecuted": false,
    "execution_millis": 4,
    "execution_start": 1647976199279,
    "source_hash": "29e7940",
    "tags": []
   },
   "outputs": [
    {
     "data": {
      "text/plain": [
       "[{'source': VariableId(0),\n",
       "  'target': VariableId(1),\n",
       "  'monotonicity': 'activation',\n",
       "  'observable': True},\n",
       " {'source': VariableId(1), 'target': VariableId(2), 'observable': True},\n",
       " {'source': VariableId(1), 'target': VariableId(0), 'observable': True},\n",
       " {'source': VariableId(0), 'target': VariableId(0), 'observable': True},\n",
       " {'source': VariableId(2),\n",
       "  'target': VariableId(2),\n",
       "  'monotonicity': 'activation',\n",
       "  'observable': True}]"
      ]
     },
     "execution_count": 9,
     "metadata": {},
     "output_type": "execute_result"
    }
   ],
   "source": [
    "rg.add_regulation({ \"source\": \"a\", \"target\": \"b\", \"monotonicity\": \"activation\", \"observable\": True })\n",
    "\n",
    "rg.add_regulation({ \"source\": \"b\", \"target\": \"c\" }) # monotonicity = none, observable = false\n",
    "rg.add_regulation({ \"source\": \"b\", \"target\": \"a\" })\n",
    "\n",
    "rg.add_regulation({ \"source\": \"a\", \"target\": \"a\" }) # autoregulations\n",
    "rg.add_regulation(\"c -> c\")                         # Use aeon file syntax (->, -|, -?, etc.)\n",
    "\n",
    "rg.regulations()"
   ]
  },
  {
   "cell_type": "code",
   "execution_count": 10,
   "metadata": {
    "cell_id": "534923534223490395e4f693d1978ada",
    "deepnote_app_coordinates": {
     "h": 5,
     "w": 12,
     "x": 0,
     "y": 102
    },
    "deepnote_cell_height": 175.78125,
    "deepnote_cell_type": "code",
    "deepnote_output_heights": [
     78.78125
    ],
    "deepnote_to_be_reexecuted": false,
    "execution_millis": 6,
    "execution_start": 1647976199284,
    "source_hash": "37cc4127",
    "tags": []
   },
   "outputs": [
    {
     "data": {
      "text/plain": [
       "{'source': VariableId(0),\n",
       " 'target': VariableId(1),\n",
       " 'monotonicity': 'activation',\n",
       " 'observable': True}"
      ]
     },
     "execution_count": 10,
     "metadata": {},
     "output_type": "execute_result"
    }
   ],
   "source": [
    "rg.find_regulation(\"a\", \"b\")"
   ]
  },
  {
   "cell_type": "markdown",
   "metadata": {
    "cell_id": "aac625d862b44250b916fae1db7b89f1",
    "deepnote_app_coordinates": {
     "h": 5,
     "w": 12,
     "x": 0,
     "y": 90
    },
    "deepnote_cell_height": 52.390625,
    "deepnote_cell_type": "markdown",
    "tags": []
   },
   "source": [
    "Once we have a graph, we can perform some basic exploration of its structure:"
   ]
  },
  {
   "cell_type": "code",
   "execution_count": 11,
   "metadata": {
    "cell_id": "61372a68c74d4e1fbde8564b721dfc49",
    "deepnote_app_coordinates": {
     "h": 5,
     "w": 12,
     "x": 0,
     "y": 96
    },
    "deepnote_cell_height": 118.1875,
    "deepnote_cell_type": "code",
    "deepnote_output_heights": [
     21.1875
    ],
    "deepnote_to_be_reexecuted": false,
    "execution_millis": 1,
    "execution_start": 1647976199338,
    "source_hash": "8c145473",
    "tags": []
   },
   "outputs": [
    {
     "data": {
      "text/plain": [
       "{VariableId(0)}"
      ]
     },
     "execution_count": 11,
     "metadata": {},
     "output_type": "execute_result"
    }
   ],
   "source": [
    "rg.regulators(\"b\")"
   ]
  },
  {
   "cell_type": "code",
   "execution_count": 12,
   "metadata": {
    "cell_id": "88159aeccf3b4c21a47ac8eb9232a400",
    "deepnote_app_coordinates": {
     "h": 5,
     "w": 12,
     "x": 0,
     "y": 108
    },
    "deepnote_cell_height": 118.1875,
    "deepnote_cell_type": "code",
    "deepnote_output_heights": [
     21.1875
    ],
    "deepnote_to_be_reexecuted": false,
    "execution_millis": 2,
    "execution_start": 1647976199339,
    "source_hash": "6a6068e5",
    "tags": []
   },
   "outputs": [
    {
     "data": {
      "text/plain": [
       "{VariableId(0), VariableId(2)}"
      ]
     },
     "execution_count": 12,
     "metadata": {},
     "output_type": "execute_result"
    }
   ],
   "source": [
    "rg.targets(\"b\")"
   ]
  },
  {
   "cell_type": "code",
   "execution_count": 13,
   "metadata": {
    "cell_id": "78c0280d47ff4d8693c3b0a0d058112f",
    "deepnote_app_coordinates": {
     "h": 5,
     "w": 12,
     "x": 0,
     "y": 114
    },
    "deepnote_cell_height": 118.1875,
    "deepnote_cell_type": "code",
    "deepnote_output_heights": [
     21.1875
    ],
    "deepnote_to_be_reexecuted": false,
    "execution_millis": 2294876,
    "execution_start": 1647976199372,
    "source_hash": "6870a1e4",
    "tags": []
   },
   "outputs": [
    {
     "data": {
      "text/plain": [
       "{VariableId(0), VariableId(1)}"
      ]
     },
     "execution_count": 13,
     "metadata": {},
     "output_type": "execute_result"
    }
   ],
   "source": [
    "rg.regulators_transitive(\"b\")"
   ]
  },
  {
   "cell_type": "code",
   "execution_count": 14,
   "metadata": {
    "cell_id": "868baa2302784d9a9c8cd73a7b24b1f9",
    "deepnote_app_coordinates": {
     "h": 5,
     "w": 12,
     "x": 0,
     "y": 120
    },
    "deepnote_cell_height": 118.1875,
    "deepnote_cell_type": "code",
    "deepnote_output_heights": [
     21.1875
    ],
    "deepnote_to_be_reexecuted": false,
    "execution_millis": 2293073,
    "execution_start": 1647976199373,
    "source_hash": "689d28fe",
    "tags": []
   },
   "outputs": [
    {
     "data": {
      "text/plain": [
       "{VariableId(0), VariableId(1), VariableId(2)}"
      ]
     },
     "execution_count": 14,
     "metadata": {},
     "output_type": "execute_result"
    }
   ],
   "source": [
    "rg.targets_transitive(\"b\")"
   ]
  },
  {
   "cell_type": "markdown",
   "metadata": {
    "cell_id": "9aa90a72872549f9ad6ca16530089d10",
    "deepnote_app_coordinates": {
     "h": 5,
     "w": 12,
     "x": 0,
     "y": 126
    },
    "deepnote_cell_height": 74.796875,
    "deepnote_cell_type": "markdown",
    "tags": []
   },
   "source": [
    "We can even run a simple SCC decomposition algorithm which will reveal variables that are mutually influencing each other. Here, we know that `a` and `b` have a cycle together, and `c` is only influenced by `b`."
   ]
  },
  {
   "cell_type": "code",
   "execution_count": 15,
   "metadata": {
    "cell_id": "26f3e24fe365450185e389ecee4ec5b3",
    "deepnote_app_coordinates": {
     "h": 5,
     "w": 12,
     "x": 0,
     "y": 132
    },
    "deepnote_cell_height": 118.1875,
    "deepnote_cell_type": "code",
    "deepnote_output_heights": [
     21.1875
    ],
    "deepnote_to_be_reexecuted": false,
    "execution_millis": 2,
    "execution_start": 1647976199373,
    "source_hash": "dc0608d8",
    "tags": []
   },
   "outputs": [
    {
     "data": {
      "text/plain": [
       "[{VariableId(2)}, {VariableId(0), VariableId(1)}]"
      ]
     },
     "execution_count": 15,
     "metadata": {},
     "output_type": "execute_result"
    }
   ],
   "source": [
    "rg.strongly_connected_components()"
   ]
  },
  {
   "cell_type": "markdown",
   "metadata": {
    "cell_id": "033c8f9d4ae8417f9541846b9bd5394b",
    "deepnote_app_coordinates": {
     "h": 5,
     "w": 12,
     "x": 0,
     "y": 138
    },
    "deepnote_cell_height": 52.390625,
    "deepnote_cell_type": "markdown",
    "tags": []
   },
   "source": [
    "If we already have a Boolean network, we can easily obtain its regulatory graph:"
   ]
  },
  {
   "cell_type": "code",
   "execution_count": 16,
   "metadata": {
    "cell_id": "35ef396421a54908af9f9468cd70dfa4",
    "deepnote_app_coordinates": {
     "h": 5,
     "w": 12,
     "x": 0,
     "y": 144
    },
    "deepnote_cell_height": 118.1875,
    "deepnote_cell_type": "code",
    "deepnote_output_heights": [
     21.1875
    ],
    "deepnote_to_be_reexecuted": false,
    "execution_millis": 2287708,
    "execution_start": 1647976199380,
    "source_hash": "493dcf35",
    "tags": []
   },
   "outputs": [
    {
     "data": {
      "text/plain": [
       "[{VariableId(0), VariableId(1), VariableId(2), VariableId(3), VariableId(4)}]"
      ]
     },
     "execution_count": 16,
     "metadata": {},
     "output_type": "execute_result"
    }
   ],
   "source": [
    "g2a.graph().strongly_connected_components()"
   ]
  },
  {
   "cell_type": "markdown",
   "metadata": {
    "cell_id": "7be5a36419ca4f65830bb4a2f0a2d310",
    "deepnote_app_coordinates": {
     "h": 5,
     "w": 12,
     "x": 0,
     "y": 150
    },
    "deepnote_cell_height": 52.390625,
    "deepnote_cell_type": "markdown",
    "tags": []
   },
   "source": [
    "In this case, we see that the g2a network has only one component, consisting of all its variables."
   ]
  },
  {
   "cell_type": "markdown",
   "metadata": {
    "cell_id": "87bd727bc6ae44c8a2a838c51fc7f04a",
    "deepnote_app_coordinates": {
     "h": 5,
     "w": 12,
     "x": 0,
     "y": 156
    },
    "deepnote_cell_height": 122.796875,
    "deepnote_cell_type": "markdown",
    "tags": []
   },
   "source": [
    "### Update Functions and Parameters\n",
    "\n",
    "A Boolean network is essentially a regulatory graph with update functions. However, as we mentioned above, our Boolean networks can also contain functions that are either unknown, or partially defined using logical parameters and uninterpreted Boolean functions."
   ]
  },
  {
   "cell_type": "code",
   "execution_count": 17,
   "metadata": {
    "cell_id": "bd9e9b7f8e694961a345f5643b015bb5",
    "deepnote_app_coordinates": {
     "h": 5,
     "w": 12,
     "x": 0,
     "y": 162
    },
    "deepnote_cell_height": 183.6875,
    "deepnote_cell_type": "code",
    "deepnote_to_be_reexecuted": false,
    "execution_millis": 2166116,
    "execution_start": 1647976199395,
    "source_hash": "c2c1afbc",
    "tags": []
   },
   "outputs": [
    {
     "name": "stdout",
     "output_type": "stream",
     "text": [
      "None\n",
      "[VariableId(0), VariableId(1), VariableId(2)]\n"
     ]
    }
   ],
   "source": [
    "# Create a Boolean network with a fixed regulatory graph\n",
    "bn = BooleanNetwork(rg)\n",
    "\n",
    "# Initially, all update functions are undefined:\n",
    "print(bn.get_update_function(\"a\"))\n",
    "\n",
    "# Such undefined functions are also referred to as \"implicit parameters\".\n",
    "print(bn.implicit_parameters())"
   ]
  },
  {
   "cell_type": "markdown",
   "metadata": {
    "cell_id": "a611a1d0ae0a4a6b940e3c19b2217c4d",
    "deepnote_app_coordinates": {
     "h": 5,
     "w": 12,
     "x": 0,
     "y": 168
    },
    "deepnote_cell_height": 133.59375,
    "deepnote_cell_type": "markdown",
    "tags": []
   },
   "source": [
    "We can still work with such a network, but in this case, our implementation of `SymbolicAsyncGraph` would consider **every possible** update function for every variable (as long as it satisfies requirements on regulation observability and monotonicity). That is mostly fine for such a small network, but would be impossible to solve for networks with hundreds of variables and thousands of regulations.\n",
    "\n",
    "To specify exact update functions, we can simply provide a Boolean expression which describes the function:"
   ]
  },
  {
   "cell_type": "code",
   "execution_count": 18,
   "metadata": {
    "cell_id": "a664b6e739284dc6a54ddac4feb428a4",
    "deepnote_app_coordinates": {
     "h": 5,
     "w": 12,
     "x": 0,
     "y": 174
    },
    "deepnote_cell_height": 136.1875,
    "deepnote_cell_type": "code",
    "deepnote_output_heights": [
     21.1875
    ],
    "deepnote_to_be_reexecuted": false,
    "execution_millis": 2163813,
    "execution_start": 1647976199404,
    "source_hash": "bf994fc",
    "tags": []
   },
   "outputs": [
    {
     "name": "stdout",
     "output_type": "stream",
     "text": [
      "(b & !a)\n",
      "[VariableId(1), VariableId(2)]\n"
     ]
    }
   ],
   "source": [
    "bn.set_update_function(\"a\", \"b & !a\")\n",
    "# To properly print the function, we have to provide the names using a BN object.\n",
    "print(bn.get_update_function(\"a\").to_string(bn))\n",
    "print(bn.implicit_parameters()) # Variable \"a\" is no longer an implicit parameter."
   ]
  },
  {
   "cell_type": "markdown",
   "metadata": {
    "cell_id": "dd03d36bafec489e8f9070d1e2e9ac8f",
    "deepnote_app_coordinates": {
     "h": 5,
     "w": 12,
     "x": 0,
     "y": 180
    },
    "deepnote_cell_height": 133.59375,
    "deepnote_cell_type": "markdown",
    "tags": []
   },
   "source": [
    "\n",
    "Note that `b -> a` is an activation, hence `b` must \"positively\" influence the outcome of this update function (although, whether this holds is not verified by the Boolean network directly; it is only tested once we try to create an asynchronous transition graph for the network).\n",
    "\n",
    "If we don't know the whole function, we can simply leave it as `None`. However, we can also use \"basic\" logical parameters (constant unknown values) and uninterpreted functions to make the function partially defined:"
   ]
  },
  {
   "cell_type": "code",
   "execution_count": 19,
   "metadata": {
    "cell_id": "50e7bf8651f644a6be665edd0eed37fc",
    "deepnote_app_coordinates": {
     "h": 5,
     "w": 12,
     "x": 0,
     "y": 186
    },
    "deepnote_cell_height": 261,
    "deepnote_cell_type": "code",
    "deepnote_to_be_reexecuted": false,
    "execution_millis": 2161885,
    "execution_start": 1647976199413,
    "source_hash": "7a08106b",
    "tags": []
   },
   "outputs": [],
   "source": [
    "# Add a basic \"explicit\" parameter. Arity 0 means the parameter is a constant.\n",
    "bn.add_parameter({ \"name\": \"p1\", \"arity\": 0 })\n",
    "\n",
    "# Update function for `c` will depend on `c` only when `p1` is set.\n",
    "bn.set_update_function(\"c\", \"b & (p1 => c)\")\n",
    "\n",
    "# Parameter of arity one is a Boolean function with one argument.\n",
    "bn.add_parameter({ \"name\": \"p2\", \"arity\": 1 })\n",
    "\n",
    "# We can use it for example like this:\n",
    "bn.set_update_function(\"c\", \"b & p2(c)\")"
   ]
  },
  {
   "cell_type": "markdown",
   "metadata": {
    "cell_id": "7212b791eb4b4dafa52bd806fc7fc10f",
    "deepnote_app_coordinates": {
     "h": 5,
     "w": 12,
     "x": 0,
     "y": 192
    },
    "deepnote_cell_height": 111.1875,
    "deepnote_cell_type": "markdown",
    "tags": []
   },
   "source": [
    "Here, update function for `c` can be `b & c`, `b & !c`, `b & true`, or `b & false`, depending on `p2`. This is because the autoregulation has no monotonicity (hence `c` can appear positively or negatively) and may not be observable (`c` may not appear at all, in which case `p2` is a constant function).\n",
    "\n",
    "This syntax can be in particular useful when we deal with variables that have multiple regulators:"
   ]
  },
  {
   "cell_type": "code",
   "execution_count": 20,
   "metadata": {
    "cell_id": "a6934b09bf2845ceb6d2b925efd68d36",
    "deepnote_app_coordinates": {
     "h": 5,
     "w": 12,
     "x": 0,
     "y": 198
    },
    "deepnote_cell_height": 118.1875,
    "deepnote_cell_type": "code",
    "deepnote_output_heights": [
     21.1875
    ],
    "deepnote_to_be_reexecuted": false,
    "execution_millis": 2159519,
    "execution_start": 1647976199458,
    "source_hash": "31c0e552",
    "tags": []
   },
   "outputs": [
    {
     "name": "stdout",
     "output_type": "stream",
     "text": [
      "((false | ((((!CtrA & GcrA) & !CcrM) & !SciP) & true)) | ((CtrA & !CcrM) & !SciP))\n"
     ]
    }
   ],
   "source": [
    "print(g2a.get_update_function(\"CtrA\").to_string(g2a))"
   ]
  },
  {
   "cell_type": "code",
   "execution_count": 21,
   "metadata": {
    "cell_id": "ad880a8675f043d9bd45548451c7d570",
    "deepnote_app_coordinates": {
     "h": 5,
     "w": 12,
     "x": 0,
     "y": 204
    },
    "deepnote_cell_height": 172.1875,
    "deepnote_cell_type": "code",
    "deepnote_output_heights": [
     21.1875
    ],
    "deepnote_to_be_reexecuted": false,
    "execution_millis": 2157098,
    "execution_start": 1647976199459,
    "source_hash": "50f974e7",
    "tags": []
   },
   "outputs": [
    {
     "name": "stdout",
     "output_type": "stream",
     "text": [
      "(CtrA & (!SciP & f1(CcrM, GcrA)))\n"
     ]
    }
   ],
   "source": [
    "g2a.add_parameter({ \"name\": \"f1\", \"arity\": 2 })\n",
    "g2a.set_update_function(\"CtrA\", \"CtrA & !SciP & f1(CcrM, GcrA)\")\n",
    "\n",
    "print(g2a.get_update_function(\"CtrA\").to_string(g2a))"
   ]
  },
  {
   "cell_type": "markdown",
   "metadata": {
    "cell_id": "36e3f5ae8f5340c78e69ebf1613df05d",
    "deepnote_app_coordinates": {
     "h": 5,
     "w": 12,
     "x": 0,
     "y": 210
    },
    "deepnote_cell_height": 52.390625,
    "deepnote_cell_type": "markdown",
    "tags": []
   },
   "source": [
    "Here, we clearly specify that the value of `CtrA` has a known dependence on `CtrA` and `SciP`, but unknown on `CcrM` and `GcrA`."
   ]
  },
  {
   "cell_type": "markdown",
   "metadata": {
    "cell_id": "1e5eaf5ce0e04452b6bee29dd067edac",
    "deepnote_app_coordinates": {
     "h": 5,
     "w": 12,
     "x": 0,
     "y": 216
    },
    "deepnote_cell_height": 122.796875,
    "deepnote_cell_type": "markdown",
    "tags": []
   },
   "source": [
    "### Symbolic Asynchronous Graph\n",
    "\n",
    "To further explore the network dynamics, we can use its symbolic asynchronous graph. Although, this feature will mostly be used for building standalone algorithms and not directly used within a notebook."
   ]
  },
  {
   "cell_type": "code",
   "execution_count": 22,
   "metadata": {
    "cell_id": "bcba68b6cef74a5a80210028b80708f4",
    "deepnote_app_coordinates": {
     "h": 5,
     "w": 12,
     "x": 0,
     "y": 222
    },
    "deepnote_cell_height": 226.1875,
    "deepnote_cell_type": "code",
    "deepnote_output_heights": [
     21.1875
    ],
    "deepnote_to_be_reexecuted": false,
    "execution_millis": 2,
    "execution_start": 1647976199460,
    "source_hash": "f42bf1b3",
    "tags": []
   },
   "outputs": [
    {
     "name": "stdout",
     "output_type": "stream",
     "text": [
      "32 x 2\n"
     ]
    }
   ],
   "source": [
    "try:\n",
    "    graph = SymbolicAsyncGraph(g2a)\n",
    "except Exception as e:\n",
    "    # The construction of a graph can fail if there are inconsistencies between the\n",
    "    # regulation properties and the update functions of the network.\n",
    "    print(e)\n",
    "\n",
    "# There are 32 states and 2 colors (two possible instantiations of function `f1`)\n",
    "print(int(graph.unit_vertices().cardinality()), \"x\", int(graph.unit_colors().cardinality()))"
   ]
  },
  {
   "cell_type": "markdown",
   "metadata": {
    "cell_id": "525fcc3bb29d4fa2883c3be06d98dd1b",
    "deepnote_app_coordinates": {
     "h": 5,
     "w": 12,
     "x": 0,
     "y": 228
    },
    "deepnote_cell_height": 178.390625,
    "deepnote_cell_type": "markdown",
    "tags": []
   },
   "source": [
    "Here, the constructor will check whether the Boolean network contains some inconsistencies: for example, an unused parameter, unused observable regulation, or update functions that do not satisfy the regulation constraints (activation in place of inhibition, etc.).\n",
    "\n",
    "The graph operates using three types of sets: `ColorSet`, `VertexSet` and `ColoredVertexSet`. A color set contains possible valuations of logical parameters and uninterpreted functions. So, each member of a color set fully specifies one exact Boolean network. If there are no parameters, this set can be only \"empty\" or \"1\". Similarly, a vertex set contains vertices of the graph. Finally, a colored vertex set contains pairs of colors and vertices, meaning that for each color, we can have a different set of vertices (or, similarly, for each vertex a different set of colors). This type of relation can be then used to represent a set of vertices that is different for individual parametrisations."
   ]
  },
  {
   "cell_type": "code",
   "execution_count": 23,
   "metadata": {
    "cell_id": "fa8d2784ba4c40be85205d205f1f38ae",
    "deepnote_app_coordinates": {
     "h": 5,
     "w": 12,
     "x": 0,
     "y": 234
    },
    "deepnote_cell_height": 136.1875,
    "deepnote_cell_type": "code",
    "deepnote_output_heights": [
     21.1875
    ],
    "deepnote_to_be_reexecuted": false,
    "execution_millis": 2,
    "execution_start": 1647976199463,
    "source_hash": "78fc3ba6",
    "tags": []
   },
   "outputs": [
    {
     "data": {
      "text/plain": [
       "1.0"
      ]
     },
     "execution_count": 23,
     "metadata": {},
     "output_type": "execute_result"
    }
   ],
   "source": [
    "a_color = graph.unit_colors().pick_singleton()\n",
    "a_color.cardinality()"
   ]
  },
  {
   "cell_type": "markdown",
   "metadata": {
    "cell_id": "a48320a4a9cb4f1dbd9f671c062dfa65",
    "deepnote_app_coordinates": {
     "h": 5,
     "w": 12,
     "x": 0,
     "y": 246
    },
    "deepnote_cell_height": 74.796875,
    "deepnote_cell_type": "markdown",
    "tags": []
   },
   "source": [
    "A set of vertices can be also iterated through, but keep in mind that the number of vertices can be huge for large models. Always check the size of your set using `cardinality` first."
   ]
  },
  {
   "cell_type": "code",
   "execution_count": 24,
   "metadata": {
    "cell_id": "d721f4688a5140c8be196f41e7799303",
    "deepnote_app_coordinates": {
     "h": 5,
     "w": 12,
     "x": 0,
     "y": 240
    },
    "deepnote_cell_height": 424.125,
    "deepnote_cell_type": "code",
    "deepnote_output_heights": [
     309.125
    ],
    "deepnote_to_be_reexecuted": false,
    "execution_millis": 3,
    "execution_start": 1647976199505,
    "source_hash": "fd756e91",
    "tags": []
   },
   "outputs": [
    {
     "name": "stdout",
     "output_type": "stream",
     "text": [
      "[False, False, False, False, False]\n",
      "[True, False, False, False, False]\n",
      "[False, True, False, False, False]\n",
      "[True, True, False, False, False]\n",
      "[False, False, True, False, False]\n",
      "[True, False, True, False, False]\n",
      "[False, True, True, False, False]\n",
      "[True, True, True, False, False]\n",
      "[False, False, False, True, False]\n",
      "[True, False, False, True, False]\n",
      "[False, True, False, True, False]\n",
      "[True, True, False, True, False]\n",
      "[False, False, True, True, False]\n",
      "[True, False, True, True, False]\n",
      "[False, True, True, True, False]\n",
      "[True, True, True, True, False]\n"
     ]
    }
   ],
   "source": [
    "vertices = graph.fix_variable(\"SciP\", False).vertices()\n",
    "for v in vertices.iterator():\n",
    "    print(v)"
   ]
  },
  {
   "cell_type": "markdown",
   "metadata": {
    "cell_id": "fe8f8456913b4e04af4f88a6f0b45cc1",
    "deepnote_app_coordinates": {
     "h": 5,
     "w": 12,
     "x": 0,
     "y": 252
    },
    "deepnote_cell_height": 52.390625,
    "deepnote_cell_type": "markdown",
    "tags": []
   },
   "source": [
    "We can also create a vertex singleton directly (this will still admit every possible color though!):"
   ]
  },
  {
   "cell_type": "code",
   "execution_count": 25,
   "metadata": {
    "cell_id": "1afe1bc3d041423f84b95d34c7f0c467",
    "deepnote_app_coordinates": {
     "h": 5,
     "w": 12,
     "x": 0,
     "y": 258
    },
    "deepnote_cell_height": 167.390625,
    "deepnote_cell_type": "code",
    "deepnote_to_be_reexecuted": false,
    "execution_millis": 3,
    "execution_start": 1647976199506,
    "source_hash": "1bd5ff55",
    "tags": []
   },
   "outputs": [
    {
     "name": "stdout",
     "output_type": "stream",
     "text": [
      "1.0\n",
      "2.0\n"
     ]
    }
   ],
   "source": [
    "singleton = graph.fix_vertex([True, False, False, True, False]) # The result is a ColoredVertexSet\n",
    "print(singleton.vertices().cardinality())\n",
    "print(singleton.colors().cardinality())"
   ]
  },
  {
   "cell_type": "markdown",
   "metadata": {
    "cell_id": "6cdaab9099454f83bfd1e7bca2203870",
    "deepnote_app_coordinates": {
     "h": 5,
     "w": 12,
     "x": 0,
     "y": 264
    },
    "deepnote_cell_height": 74.796875,
    "deepnote_cell_type": "markdown",
    "tags": []
   },
   "source": [
    "Finally, we can use the graph to compute successors and predecessors for colored sets of vertices. Using this operation, we can implement more complex algorithms, like SCC decomposition or safety analysis."
   ]
  },
  {
   "cell_type": "code",
   "execution_count": 26,
   "metadata": {
    "cell_id": "a2d4655429524903964c13f59384da95",
    "deepnote_app_coordinates": {
     "h": 5,
     "w": 12,
     "x": 0,
     "y": 270
    },
    "deepnote_cell_height": 332.78125,
    "deepnote_cell_type": "code",
    "deepnote_to_be_reexecuted": false,
    "execution_millis": 3,
    "execution_start": 1647976199507,
    "source_hash": "59843944",
    "tags": []
   },
   "outputs": [
    {
     "name": "stdout",
     "output_type": "stream",
     "text": [
      "1 Discovered 2.0 using colors 2.0\n",
      "2 Discovered 1.0 using colors 2.0\n",
      "3 Discovered 0.0 using colors 0.0\n",
      "Total discovered vertices: 4.0\n"
     ]
    }
   ],
   "source": [
    "reachable = singleton\n",
    "for i in range(10):\n",
    "    step = graph.post(reachable)\n",
    "    new = step.minus(reachable)\n",
    "    print(i+1, \"Discovered\", new.vertices().cardinality(), \"using colors\", new.colors().cardinality())\n",
    "    if new.is_empty():\n",
    "        break\n",
    "    reachable = reachable.union(new)\n",
    "\n",
    "print(\"Total discovered vertices:\", reachable.vertices().cardinality())"
   ]
  },
  {
   "cell_type": "markdown",
   "metadata": {
    "cell_id": "8bcbc059a05e44389d0e92d9a74179bd",
    "deepnote_app_coordinates": {
     "h": 5,
     "w": 12,
     "x": 0,
     "y": 276
    },
    "deepnote_cell_height": 88.796875,
    "deepnote_cell_type": "markdown",
    "tags": []
   },
   "source": [
    "It is also possible to use `var_post` and `var_pre` to only update a specific variable in the network during a transition. This is typically much more efficient (but of course, you need to perform more updates to cover all network variables). Furthermore, the library provides other specialized alternatives to `post` and `pre` which, for example, efficiently compute successors/predecessors within a specific set, etc.\n",
    "\n",
    "To save the results of the computation, we can use the fact that these sets are all internally represented as BDDs, which we can dump to a string, or visualized as a `.dot` file:"
   ]
  },
  {
   "cell_type": "code",
   "execution_count": 27,
   "metadata": {
    "cell_id": "69ab4226f59d43fda519ccfea22135b3",
    "deepnote_app_coordinates": {
     "h": 5,
     "w": 12,
     "x": 0,
     "y": 282
    },
    "deepnote_cell_height": 136.1875,
    "deepnote_cell_type": "code",
    "deepnote_output_heights": [
     21.1875
    ],
    "deepnote_to_be_reexecuted": false,
    "execution_millis": 2,
    "execution_start": 1647976199558,
    "source_hash": "1a15e18d",
    "tags": []
   },
   "outputs": [
    {
     "data": {
      "text/plain": [
       "'|9,0,0|9,1,1|8,1,0|6,2,0|5,0,3|4,0,4|3,5,0|5,3,0|4,0,7|3,8,0|2,9,6|1,10,0|'"
      ]
     },
     "execution_count": 27,
     "metadata": {},
     "output_type": "execute_result"
    }
   ],
   "source": [
    "reachable_string = reachable.to_bdd().to_raw_string()\n",
    "reachable_string"
   ]
  },
  {
   "cell_type": "code",
   "execution_count": 28,
   "metadata": {
    "cell_id": "56e1996b040843b7ab59a564c4610229",
    "deepnote_app_coordinates": {
     "h": 5,
     "w": 12,
     "x": 0,
     "y": 300
    },
    "deepnote_cell_height": 744,
    "deepnote_cell_type": "code",
    "deepnote_output_heights": [
     611
    ],
    "deepnote_to_be_reexecuted": false,
    "execution_millis": 28,
    "execution_start": 1647976199559,
    "source_hash": "3a7fc80f",
    "tags": []
   },
   "outputs": [
    {
     "data": {
      "image/svg+xml": [
       "<?xml version=\"1.0\" encoding=\"UTF-8\" standalone=\"no\"?>\n",
       "<!DOCTYPE svg PUBLIC \"-//W3C//DTD SVG 1.1//EN\"\n",
       " \"http://www.w3.org/Graphics/SVG/1.1/DTD/svg11.dtd\">\n",
       "<!-- Generated by graphviz version 2.43.0 (0)\n",
       " -->\n",
       "<!-- Title: G Pages: 1 -->\n",
       "<svg width=\"134pt\" height=\"572pt\"\n",
       " viewBox=\"0.00 0.00 134.00 572.00\" xmlns=\"http://www.w3.org/2000/svg\" xmlns:xlink=\"http://www.w3.org/1999/xlink\">\n",
       "<g id=\"graph0\" class=\"graph\" transform=\"scale(1 1) rotate(0) translate(4 568)\">\n",
       "<title>G</title>\n",
       "<polygon fill=\"white\" stroke=\"transparent\" points=\"-4,4 -4,-568 130,-568 130,4 -4,4\"/>\n",
       "<!-- init__ -->\n",
       "<!-- 11 -->\n",
       "<g id=\"node2\" class=\"node\">\n",
       "<title>11</title>\n",
       "<ellipse fill=\"none\" stroke=\"black\" cx=\"63\" cy=\"-509\" rx=\"27\" ry=\"18\"/>\n",
       "<text text-anchor=\"middle\" x=\"63\" y=\"-505.3\" font-family=\"Times,serif\" font-size=\"14.00\">x_1</text>\n",
       "</g>\n",
       "<!-- init__&#45;&gt;11 -->\n",
       "<g id=\"edge1\" class=\"edge\">\n",
       "<title>init__&#45;&gt;11</title>\n",
       "<path fill=\"none\" stroke=\"black\" d=\"M63,-562.85C63,-561.37 63,-549.32 63,-537.1\"/>\n",
       "<polygon fill=\"black\" stroke=\"black\" points=\"66.5,-537.02 63,-527.02 59.5,-537.02 66.5,-537.02\"/>\n",
       "</g>\n",
       "<!-- 10 -->\n",
       "<g id=\"node12\" class=\"node\">\n",
       "<title>10</title>\n",
       "<ellipse fill=\"none\" stroke=\"black\" cx=\"63\" cy=\"-437\" rx=\"27\" ry=\"18\"/>\n",
       "<text text-anchor=\"middle\" x=\"63\" y=\"-433.3\" font-family=\"Times,serif\" font-size=\"14.00\">x_2</text>\n",
       "</g>\n",
       "<!-- 11&#45;&gt;10 -->\n",
       "<g id=\"edge12\" class=\"edge\">\n",
       "<title>11&#45;&gt;10</title>\n",
       "<path fill=\"none\" stroke=\"black\" stroke-dasharray=\"1,5\" d=\"M63,-490.7C63,-482.98 63,-473.71 63,-465.11\"/>\n",
       "<polygon fill=\"black\" stroke=\"black\" points=\"66.5,-465.1 63,-455.1 59.5,-465.1 66.5,-465.1\"/>\n",
       "</g>\n",
       "<!-- 1 -->\n",
       "<g id=\"node3\" class=\"node\">\n",
       "<title>1</title>\n",
       "<polygon fill=\"lightgrey\" stroke=\"black\" points=\"76,-23 50,-23 50,0 76,0 76,-23\"/>\n",
       "<text text-anchor=\"middle\" x=\"63\" y=\"-7.8\" font-family=\"Times,serif\" font-size=\"14.00\">1</text>\n",
       "</g>\n",
       "<!-- 2 -->\n",
       "<g id=\"node4\" class=\"node\">\n",
       "<title>2</title>\n",
       "<ellipse fill=\"none\" stroke=\"black\" cx=\"63\" cy=\"-77\" rx=\"27\" ry=\"18\"/>\n",
       "<text text-anchor=\"middle\" x=\"63\" y=\"-73.3\" font-family=\"Times,serif\" font-size=\"14.00\">x_8</text>\n",
       "</g>\n",
       "<!-- 2&#45;&gt;1 -->\n",
       "<g id=\"edge2\" class=\"edge\">\n",
       "<title>2&#45;&gt;1</title>\n",
       "<path fill=\"none\" stroke=\"black\" stroke-dasharray=\"1,5\" d=\"M63,-58.98C63,-51.12 63,-41.7 63,-33.4\"/>\n",
       "<polygon fill=\"black\" stroke=\"black\" points=\"66.5,-33.37 63,-23.37 59.5,-33.37 66.5,-33.37\"/>\n",
       "</g>\n",
       "<!-- 3 -->\n",
       "<g id=\"node5\" class=\"node\">\n",
       "<title>3</title>\n",
       "<ellipse fill=\"none\" stroke=\"black\" cx=\"63\" cy=\"-149\" rx=\"27\" ry=\"18\"/>\n",
       "<text text-anchor=\"middle\" x=\"63\" y=\"-145.3\" font-family=\"Times,serif\" font-size=\"14.00\">x_6</text>\n",
       "</g>\n",
       "<!-- 3&#45;&gt;2 -->\n",
       "<g id=\"edge3\" class=\"edge\">\n",
       "<title>3&#45;&gt;2</title>\n",
       "<path fill=\"none\" stroke=\"black\" stroke-dasharray=\"1,5\" d=\"M63,-130.7C63,-122.98 63,-113.71 63,-105.11\"/>\n",
       "<polygon fill=\"black\" stroke=\"black\" points=\"66.5,-105.1 63,-95.1 59.5,-105.1 66.5,-105.1\"/>\n",
       "</g>\n",
       "<!-- 4 -->\n",
       "<g id=\"node6\" class=\"node\">\n",
       "<title>4</title>\n",
       "<ellipse fill=\"none\" stroke=\"black\" cx=\"27\" cy=\"-221\" rx=\"27\" ry=\"18\"/>\n",
       "<text text-anchor=\"middle\" x=\"27\" y=\"-217.3\" font-family=\"Times,serif\" font-size=\"14.00\">x_5</text>\n",
       "</g>\n",
       "<!-- 4&#45;&gt;3 -->\n",
       "<g id=\"edge4\" class=\"edge\">\n",
       "<title>4&#45;&gt;3</title>\n",
       "<path fill=\"none\" stroke=\"black\" d=\"M35.35,-203.76C39.71,-195.28 45.15,-184.71 50.04,-175.2\"/>\n",
       "<polygon fill=\"black\" stroke=\"black\" points=\"53.23,-176.64 54.7,-166.15 47.01,-173.44 53.23,-176.64\"/>\n",
       "</g>\n",
       "<!-- 5 -->\n",
       "<g id=\"node7\" class=\"node\">\n",
       "<title>5</title>\n",
       "<ellipse fill=\"none\" stroke=\"black\" cx=\"27\" cy=\"-293\" rx=\"27\" ry=\"18\"/>\n",
       "<text text-anchor=\"middle\" x=\"27\" y=\"-289.3\" font-family=\"Times,serif\" font-size=\"14.00\">x_4</text>\n",
       "</g>\n",
       "<!-- 5&#45;&gt;4 -->\n",
       "<g id=\"edge5\" class=\"edge\">\n",
       "<title>5&#45;&gt;4</title>\n",
       "<path fill=\"none\" stroke=\"black\" d=\"M27,-274.7C27,-266.98 27,-257.71 27,-249.11\"/>\n",
       "<polygon fill=\"black\" stroke=\"black\" points=\"30.5,-249.1 27,-239.1 23.5,-249.1 30.5,-249.1\"/>\n",
       "</g>\n",
       "<!-- 6 -->\n",
       "<g id=\"node8\" class=\"node\">\n",
       "<title>6</title>\n",
       "<ellipse fill=\"none\" stroke=\"black\" cx=\"27\" cy=\"-365\" rx=\"27\" ry=\"18\"/>\n",
       "<text text-anchor=\"middle\" x=\"27\" y=\"-361.3\" font-family=\"Times,serif\" font-size=\"14.00\">x_3</text>\n",
       "</g>\n",
       "<!-- 6&#45;&gt;5 -->\n",
       "<g id=\"edge6\" class=\"edge\">\n",
       "<title>6&#45;&gt;5</title>\n",
       "<path fill=\"none\" stroke=\"black\" stroke-dasharray=\"1,5\" d=\"M27,-346.7C27,-338.98 27,-329.71 27,-321.11\"/>\n",
       "<polygon fill=\"black\" stroke=\"black\" points=\"30.5,-321.1 27,-311.1 23.5,-321.1 30.5,-321.1\"/>\n",
       "</g>\n",
       "<!-- 7 -->\n",
       "<g id=\"node9\" class=\"node\">\n",
       "<title>7</title>\n",
       "<ellipse fill=\"none\" stroke=\"black\" cx=\"99\" cy=\"-221\" rx=\"27\" ry=\"18\"/>\n",
       "<text text-anchor=\"middle\" x=\"99\" y=\"-217.3\" font-family=\"Times,serif\" font-size=\"14.00\">x_5</text>\n",
       "</g>\n",
       "<!-- 7&#45;&gt;3 -->\n",
       "<g id=\"edge7\" class=\"edge\">\n",
       "<title>7&#45;&gt;3</title>\n",
       "<path fill=\"none\" stroke=\"black\" stroke-dasharray=\"1,5\" d=\"M90.65,-203.76C86.29,-195.28 80.85,-184.71 75.96,-175.2\"/>\n",
       "<polygon fill=\"black\" stroke=\"black\" points=\"78.99,-173.44 71.3,-166.15 72.77,-176.64 78.99,-173.44\"/>\n",
       "</g>\n",
       "<!-- 8 -->\n",
       "<g id=\"node10\" class=\"node\">\n",
       "<title>8</title>\n",
       "<ellipse fill=\"none\" stroke=\"black\" cx=\"99\" cy=\"-293\" rx=\"27\" ry=\"18\"/>\n",
       "<text text-anchor=\"middle\" x=\"99\" y=\"-289.3\" font-family=\"Times,serif\" font-size=\"14.00\">x_4</text>\n",
       "</g>\n",
       "<!-- 8&#45;&gt;7 -->\n",
       "<g id=\"edge8\" class=\"edge\">\n",
       "<title>8&#45;&gt;7</title>\n",
       "<path fill=\"none\" stroke=\"black\" d=\"M99,-274.7C99,-266.98 99,-257.71 99,-249.11\"/>\n",
       "<polygon fill=\"black\" stroke=\"black\" points=\"102.5,-249.1 99,-239.1 95.5,-249.1 102.5,-249.1\"/>\n",
       "</g>\n",
       "<!-- 9 -->\n",
       "<g id=\"node11\" class=\"node\">\n",
       "<title>9</title>\n",
       "<ellipse fill=\"none\" stroke=\"black\" cx=\"99\" cy=\"-365\" rx=\"27\" ry=\"18\"/>\n",
       "<text text-anchor=\"middle\" x=\"99\" y=\"-361.3\" font-family=\"Times,serif\" font-size=\"14.00\">x_3</text>\n",
       "</g>\n",
       "<!-- 9&#45;&gt;8 -->\n",
       "<g id=\"edge9\" class=\"edge\">\n",
       "<title>9&#45;&gt;8</title>\n",
       "<path fill=\"none\" stroke=\"black\" stroke-dasharray=\"1,5\" d=\"M99,-346.7C99,-338.98 99,-329.71 99,-321.11\"/>\n",
       "<polygon fill=\"black\" stroke=\"black\" points=\"102.5,-321.1 99,-311.1 95.5,-321.1 102.5,-321.1\"/>\n",
       "</g>\n",
       "<!-- 10&#45;&gt;6 -->\n",
       "<g id=\"edge10\" class=\"edge\">\n",
       "<title>10&#45;&gt;6</title>\n",
       "<path fill=\"none\" stroke=\"black\" d=\"M54.65,-419.76C50.29,-411.28 44.85,-400.71 39.96,-391.2\"/>\n",
       "<polygon fill=\"black\" stroke=\"black\" points=\"42.99,-389.44 35.3,-382.15 36.77,-392.64 42.99,-389.44\"/>\n",
       "</g>\n",
       "<!-- 10&#45;&gt;9 -->\n",
       "<g id=\"edge11\" class=\"edge\">\n",
       "<title>10&#45;&gt;9</title>\n",
       "<path fill=\"none\" stroke=\"black\" stroke-dasharray=\"1,5\" d=\"M71.35,-419.76C75.71,-411.28 81.15,-400.71 86.04,-391.2\"/>\n",
       "<polygon fill=\"black\" stroke=\"black\" points=\"89.23,-392.64 90.7,-382.15 83.01,-389.44 89.23,-392.64\"/>\n",
       "</g>\n",
       "</g>\n",
       "</svg>\n"
      ],
      "text/plain": [
       "<graphviz.sources.Source at 0x7f0d618147f0>"
      ]
     },
     "execution_count": 28,
     "metadata": {},
     "output_type": "execute_result"
    }
   ],
   "source": [
    "import graphviz\n",
    "\n",
    "graphviz.Source(reachable.to_bdd().to_dot())"
   ]
  },
  {
   "cell_type": "code",
   "execution_count": 29,
   "metadata": {
    "cell_id": "c854a587369340e885a5bd9077261b84",
    "deepnote_app_coordinates": {
     "h": 5,
     "w": 12,
     "x": 0,
     "y": 288
    },
    "deepnote_cell_height": 208.1875,
    "deepnote_cell_type": "code",
    "deepnote_output_heights": [
     21.1875
    ],
    "deepnote_to_be_reexecuted": false,
    "execution_millis": 2,
    "execution_start": 1647976199634,
    "source_hash": "8d9d80f8",
    "tags": []
   },
   "outputs": [
    {
     "data": {
      "text/plain": [
       "True"
      ]
     },
     "execution_count": 29,
     "metadata": {},
     "output_type": "execute_result"
    }
   ],
   "source": [
    "# We need to copy an existing set to preserve all metadata about the model,\n",
    "# since these are not saved in the BDD\n",
    "reachable_reloaded = ColoredVertexSet(graph, Bdd.from_raw_string(reachable_string))\n",
    "\n",
    "# r1 <=> r2 must be a tautology if the sets are equivalent:\n",
    "reachable_reloaded.to_bdd().l_iff(reachable.to_bdd()).is_true()"
   ]
  },
  {
   "cell_type": "markdown",
   "metadata": {
    "cell_id": "0bee52db7a674a208c50ce32f7d2684c",
    "deepnote_app_coordinates": {
     "h": 5,
     "w": 12,
     "x": 0,
     "y": 294
    },
    "deepnote_cell_height": 52.390625,
    "deepnote_cell_type": "markdown",
    "tags": []
   },
   "source": [
    "However, keep in mind that the raw string does not contain any information about the underlying model, and you cannot mix BDD representations between different models! So always make sure not to mix BDD files for different models."
   ]
  }
 ],
 "metadata": {
  "deepnote": {
   "is_reactive": false
  },
  "deepnote_app_layout": "article",
  "deepnote_execution_queue": [],
  "deepnote_notebook_id": "14fc148c0c764c8784b5e0f8b832a640",
  "kernelspec": {
   "display_name": "Python 3 (ipykernel)",
   "language": "python",
   "name": "python3"
  },
  "language_info": {
   "codemirror_mode": {
    "name": "ipython",
    "version": 3
   },
   "file_extension": ".py",
   "mimetype": "text/x-python",
   "name": "python",
   "nbconvert_exporter": "python",
   "pygments_lexer": "ipython3",
   "version": "3.10.6"
  }
 },
 "nbformat": 4,
 "nbformat_minor": 1
}
