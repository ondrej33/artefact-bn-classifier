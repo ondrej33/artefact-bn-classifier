{
 "cells": [
  {
   "cell_type": "markdown",
   "id": "7fa86d4a-2c96-44d0-8278-888d4e45f206",
   "metadata": {},
   "source": [
    "# Fixed-points of Boolean networks in AEON.py\n",
    "\n",
    "AEON.py includes methods for reasonably efficient symbolic computation of network fixed-points. \n",
    "Note that if we are only interested in *some* fixed-points, for very large models, it's probably \n",
    "faster to use some kind of SAT/ASP based method. However, if we need to further explore the full \n",
    "set of fixed-points, e.g. to compute it's cardinality, it might be infeasible to enumerate them all \n",
    "using just a solver. That's where AEON.py comes in."
   ]
  },
  {
   "cell_type": "markdown",
   "id": "c1d2acff",
   "metadata": {},
   "source": [
    "To demonstrate the feature, we will use the butanol production pathway model from CellCollective (also known as model 077 in [BBM](https://github.com/sybila/biodivine-boolean-models/tree/94e521651376fa7d6979a4aebc1df574de0d5c2c/models/%5Bid-077%5D__%5Bvar-53%5D__%5Bin-13%5D__%5BSIGNALLING-PATHWAY-FOR-BUTANOL-PRODUCTION%5D))."
   ]
  },
  {
   "cell_type": "code",
   "execution_count": 1,
   "id": "9aecf36d",
   "metadata": {},
   "outputs": [],
   "source": [
    "from biodivine_aeon import *"
   ]
  },
  {
   "cell_type": "code",
   "execution_count": 2,
   "id": "1b732db9-2cfd-4753-bb6b-f7a1703d46b3",
   "metadata": {},
   "outputs": [
    {
     "name": "stdout",
     "output_type": "stream",
     "text": [
      "BooleanNetwork(variables = 66, parameters = 0, regulations = 152)\n"
     ]
    }
   ],
   "source": [
    "# The `from_file` function will automatically recognise \n",
    "# the network format from the file extension.\n",
    "bn = BooleanNetwork.from_file(\"butanol-pathway.sbml\")\n",
    "print(bn)"
   ]
  },
  {
   "cell_type": "markdown",
   "id": "a4fe4ecb-4c38-4586-8176-23742b3de570",
   "metadata": {},
   "source": [
    "#### Input inlining (optional)\n",
    "\n",
    "At this point, all model inputs are represented as variables with constant update functions\n",
    "(this representation tends to have the best compatibility with other tools). However, this is a bit \n",
    "inefficient for BDD representation, because while the inputs are clearly constant, AEON will still treat them as normal variables.\n",
    "\n",
    "Instead, we can ask AEON to automatically recognize constant input \n",
    "variables and turn them into logical parameters. Overall, this is probably not going to turn an unsolvable\n",
    "problem into a solvable one, but it can still save a non-trivial amount of computation time (and quite a bit of RAM\n",
    "for larger models).\n",
    " \n",
    "However, keep in mind that AEON refers to the valuations of such parameters as colors: if the model is using any parameters, the result won't be just a set of fixed-point states, but a relation over fixed-point states and corresponding parameter valuations (colors). \n",
    "\n",
    "If you don't perform this transformation, you don't have to worry about colors at all. Your models won't contain any and all information will be part of the network state (as long as you don't introduce other parameters, e.g. by erasing the update functions of other variables)."
   ]
  },
  {
   "cell_type": "code",
   "execution_count": 3,
   "id": "48c8d29e-87c6-407f-8587-41c44bb8f747",
   "metadata": {},
   "outputs": [
    {
     "name": "stdout",
     "output_type": "stream",
     "text": [
      "BooleanNetwork(variables = 53, parameters = 13, regulations = 120)\n"
     ]
    }
   ],
   "source": [
    "bn_inlined = bn.inline_inputs()\n",
    "print(bn_inlined)"
   ]
  },
  {
   "cell_type": "markdown",
   "id": "9c050d79-ec60-47b2-800f-44e86f880715",
   "metadata": {},
   "source": [
    "We will continue working with both versions of the network to demonstrate the differences between a \"normal\" Boolean network and one with logical parameters. However, keep in mind that the results will be isomorphic: the only difference is whether parts of the result identify as a \"state\" or a \"color\".\n",
    "\n",
    "#### Symbolic transition graph\n",
    "\n",
    "For the next step, we need to create the `SymbolicAsyncGraph` for both networks. This structure actually encodes the network behaviour into a symbolic transition system:"
   ]
  },
  {
   "cell_type": "code",
   "execution_count": 4,
   "id": "4bdee3a4-403e-460c-98c9-fe85f6a33aaf",
   "metadata": {},
   "outputs": [
    {
     "name": "stdout",
     "output_type": "stream",
     "text": [
      "STG has 73786976294838206464 states and 1 color.\n",
      "STG has 9007199254740992 states and 8192 colors.\n"
     ]
    }
   ],
   "source": [
    "stg = SymbolicAsyncGraph(bn)\n",
    "print(f\"STG has {int(stg.unit_vertices().cardinality())} states and {int(stg.unit_colors().cardinality())} color.\")\n",
    "stg_inlined = SymbolicAsyncGraph(bn_inlined)\n",
    "print(f\"STG has {int(stg_inlined.unit_vertices().cardinality())} states and {int(stg_inlined.unit_colors().cardinality())} colors.\")"
   ]
  },
  {
   "cell_type": "markdown",
   "id": "10c04925",
   "metadata": {},
   "source": [
    "Notice that the number of states in the \"normal\" network matches the number of states times the number of colors of the inlined network. That is, we are not losing any information, some of the state variables just shifted into logical parameters."
   ]
  },
  {
   "cell_type": "markdown",
   "id": "8118a501-5248-4cb8-b338-3a46d845a434",
   "metadata": {},
   "source": [
    "### Solver-based fixed-point enumeration\n",
    "\n",
    "First, we show how to use a solver in AEON.py to detect fixed-points. Internally, this relies on Z3, \n",
    "which is a bit of an overkill for this kind of task but is relatively reliable and easy to integrate. \n",
    "\n",
    " > The solver is statically linked into AEON.py, so you don't have to install Z3 independently.\n",
    "\n",
    " > WARNING: Right now, the result is exported to Python as a list, not an iterator. Internally \n",
    "   (in Rust), the result is an iterator, but porting Rust iterators into Python is a combersome process \n",
    "   that we plan to adress later. Just keep in mind that all results have to fit into memory in this case. \n",
    "   If this is a limitation for you (i.e. you want a true iterator), get it touch and we can fix this :)"
   ]
  },
  {
   "cell_type": "code",
   "execution_count": 5,
   "id": "27e298d5-dbc0-448d-8729-96327c6426b8",
   "metadata": {},
   "outputs": [
    {
     "name": "stdout",
     "output_type": "stream",
     "text": [
      "2048\n",
      "2048\n"
     ]
    }
   ],
   "source": [
    "fixed_point_list = FixedPoints.solver_list(stg, limit=100000)\n",
    "print(len(fixed_point_list))\n",
    "fixed_point_list_inlined = FixedPoints.solver_list(stg_inlined, limit=10000)\n",
    "print(len(fixed_point_list_inlined))"
   ]
  },
  {
   "cell_type": "markdown",
   "id": "e5e73b00-bce0-45ba-8ea3-1014445cc7e4",
   "metadata": {},
   "source": [
    "Note that the results of this enumeration (members of the list) are still symbolic sets. They just all \n",
    "contian a single state and a single color. This is mostly to ensure compatibility with other parts \n",
    "of the AEON.py API. This also means you can treat them as sets and perform operations like \n",
    "`union` or `intersection` on them:"
   ]
  },
  {
   "cell_type": "code",
   "execution_count": 6,
   "id": "e0e68ebe",
   "metadata": {},
   "outputs": [
    {
     "name": "stdout",
     "output_type": "stream",
     "text": [
      "2048\n"
     ]
    }
   ],
   "source": [
    "# Make sure not to mix the symbolic sets from `stg` and `stg_inlined`.\n",
    "# While they technically have the same number of symbolic variables,\n",
    "# they are not guaranteed to be mutually compatible.\n",
    "\n",
    "solver_result = stg_inlined.empty_colored_vertices()\n",
    "for x in fixed_point_list_inlined:\n",
    "    # `x` is a singleton set: it contains just one element.\n",
    "    assert x.is_singleton()\n",
    "    \n",
    "    solver_result = solver_result.union(x)\n",
    "print(int(solver_result.cardinality()))"
   ]
  },
  {
   "cell_type": "markdown",
   "id": "75574201-7eec-4e1d-85ae-c195f162f6d5",
   "metadata": {},
   "source": [
    "### Symbolic fixed-point calculation\n",
    "\n",
    "If a network has *a lot* of fixed-points, it might be impossible to enumerate them all using a solver. \n",
    "That's where a symbolic algorithm can be useful, but keep in mind that the computation can still take a long time for large networks."
   ]
  },
  {
   "cell_type": "code",
   "execution_count": 7,
   "id": "5837a85b-4995-4656-9db6-6197ae7f0349",
   "metadata": {},
   "outputs": [
    {
     "name": "stdout",
     "output_type": "stream",
     "text": [
      "2048\n",
      "2048\n"
     ]
    }
   ],
   "source": [
    "fp = FixedPoints.symbolic(stg)\n",
    "print(int(fp.cardinality()))\n",
    "fp_inlined = FixedPoints.symbolic(stg_inlined)\n",
    "print(int(fp_inlined.cardinality()))\n",
    "\n",
    "# Naturally, the results should be the same as the ones from the solver.\n",
    "assert fp_inlined == solver_result"
   ]
  },
  {
   "cell_type": "markdown",
   "id": "641403d0",
   "metadata": {},
   "source": [
    "This is also where the colors come into play. We can notice that the result for both networks contains 2048 elements, but these are distributed differently between vertices and colors. In particular, we see that there are only 32 unique states which appear for 2048 unique colors (parameter valuations). This means that 2048/8192 colors admit a fixed point, but out of these 2048 colors, some colors admit the same fixed-point, since there are only 32 unique fixed-point states."
   ]
  },
  {
   "cell_type": "code",
   "execution_count": 8,
   "id": "e5a8583d",
   "metadata": {},
   "outputs": [
    {
     "name": "stdout",
     "output_type": "stream",
     "text": [
      "2048 vertices, 1 colors\n",
      "32 vertices, 2048 colors\n"
     ]
    }
   ],
   "source": [
    "print(f\"{int(fp.vertices().cardinality())} vertices, {int(fp.colors().cardinality())} colors\")\n",
    "print(f\"{int(fp_inlined.vertices().cardinality())} vertices, {int(fp_inlined.colors().cardinality())} colors\")"
   ]
  },
  {
   "cell_type": "code",
   "execution_count": 9,
   "id": "0d140d95",
   "metadata": {},
   "outputs": [
    {
     "name": "stdout",
     "output_type": "stream",
     "text": [
      "[False, True, False, True, False, False, False, False, False, False] ...\n",
      "[False, True, True, True, False, False, False, False, False, False] ...\n",
      "[False, True, False, True, False, False, False, False, False, False] ...\n",
      "[False, True, True, True, False, False, False, False, False, False] ...\n",
      "[False, True, False, True, False, False, False, False, False, False] ...\n",
      "[False, True, True, True, False, False, False, False, False, False] ...\n",
      "[False, True, False, True, False, False, False, False, False, False] ...\n",
      "[False, True, True, True, False, False, False, False, False, False] ...\n",
      "[True, True, False, True, False, False, True, True, False, True] ...\n",
      "[True, True, True, True, False, False, True, True, False, True] ...\n",
      "[True, True, False, True, False, False, True, True, False, True] ...\n",
      "[True, True, True, True, False, False, True, True, False, True] ...\n",
      "[True, True, False, True, False, False, True, True, False, True] ...\n",
      "[True, True, True, True, False, False, True, True, False, True] ...\n",
      "[True, True, False, True, False, False, True, True, False, True] ...\n",
      "[True, True, True, True, False, False, True, True, False, True] ...\n",
      "[True, True, False, True, False, False, True, True, False, True] ...\n",
      "[True, True, True, True, False, False, True, True, False, True] ...\n",
      "[True, True, False, True, False, False, True, True, False, True] ...\n",
      "[True, True, True, True, False, False, True, True, False, True] ...\n",
      "[True, True, False, True, False, False, True, True, False, True] ...\n",
      "[True, True, True, True, False, False, True, True, False, True] ...\n",
      "[True, True, False, True, False, False, True, True, False, True] ...\n",
      "[True, True, True, True, False, False, True, True, False, True] ...\n",
      "[True, True, False, True, False, False, True, True, False, True] ...\n",
      "[True, True, True, True, False, False, True, True, False, True] ...\n",
      "[True, True, False, True, False, False, True, True, False, True] ...\n",
      "[True, True, True, True, False, False, True, True, False, True] ...\n",
      "[True, True, False, True, False, False, True, True, False, True] ...\n",
      "[True, True, True, True, False, False, True, True, False, True] ...\n",
      "[True, True, False, True, False, False, True, True, False, True] ...\n",
      "[True, True, True, True, False, False, True, True, False, True] ...\n"
     ]
    }
   ],
   "source": [
    "# We can even iterate over the vertices and print them all out:\n",
    "for vertex in fp_inlined.vertices().iterator():\n",
    "    print(vertex[:10], \"...\")"
   ]
  },
  {
   "cell_type": "markdown",
   "id": "956b944d-28a6-4b2f-9fba-16d719493fc2",
   "metadata": {},
   "source": [
    "### Advanced fixed point functionality\n",
    "\n",
    "#### Restriction to initial states\n",
    "\n",
    "We can use a `restriction` parameter (this can be any symbolic `ColoredVertexSet`) that restricts the search only to this particular subset of the state space. For example, we might be interested in the distribution of the fixed-points depending on the `sporulation` variable:"
   ]
  },
  {
   "cell_type": "code",
   "execution_count": 10,
   "id": "dd2a4ada-b190-4f4d-976c-7d7a4c2912ff",
   "metadata": {},
   "outputs": [
    {
     "name": "stdout",
     "output_type": "stream",
     "text": [
      "Found 0 fixed-points\n",
      "Found 2048 fixed-points\n"
     ]
    }
   ],
   "source": [
    "symbolic_space = stg.fix_subspace({ \"v_sporulation\": False })\n",
    "fixed_points = FixedPoints.symbolic(stg, restriction=symbolic_space)\n",
    "print(f\"Found {int(fixed_points.cardinality())} fixed-points\")\n",
    "\n",
    "symbolic_space = stg.fix_subspace({ \"v_sporulation\": True })\n",
    "fixed_points = FixedPoints.symbolic(stg, restriction=symbolic_space)\n",
    "print(f\"Found {int(fixed_points.cardinality())} fixed-points\")"
   ]
  },
  {
   "cell_type": "markdown",
   "id": "83d65246-3049-436e-8f4f-d0051d639422",
   "metadata": {},
   "source": [
    "Ha! Indeed, it appears that all fixed points have `sporulation` set to `True`. \n",
    "\n",
    "Note that since we already had the complete symbolic set of fixed-points (variables `fp` and `fp_inlined`), we could have gotten the same result \n",
    "just by intersecting the `fp` set with the two versions of the `symbolic_space`. However, for more restrictive sets of \"initial\" states, it is often faster to just compute the two results independently (assuming the full result is not needed)."
   ]
  },
  {
   "cell_type": "markdown",
   "id": "6f82ea0e-b601-481c-8349-51f7cc413f1f",
   "metadata": {},
   "source": [
    "#### Projection to individual components\n",
    "\n",
    "In some instances, we only care about the fixed-point states (without the colors; i.e. parameter valuations), \n",
    "or about the fixed-point colors (parameter valuations that admit existence of *some* fixed-point). In these cases,\n",
    "we can use a projection to only obtain this particular part of the result. Similar to restrictions, this is typically measurably faster than computing the full result."
   ]
  },
  {
   "cell_type": "code",
   "execution_count": 11,
   "id": "3d3b437d-f743-4187-933f-3f5c1e6730af",
   "metadata": {},
   "outputs": [],
   "source": [
    "fp_vertices = FixedPoints.symbolic_vertices(stg_inlined)\n",
    "fp_colors = FixedPoints.symbolic_colors(stg_inlined)\n",
    "\n",
    "assert fp_vertices == fp_inlined.vertices()\n",
    "assert fp_colors == fp_inlined.colors()"
   ]
  },
  {
   "cell_type": "markdown",
   "id": "8ad52a5e-c47b-4c88-88cb-16bd07368005",
   "metadata": {},
   "source": [
    "However, keep in mind that the set of fixed points is more complex than just \n",
    "the product of the vertex and color projection. That is, we cannot simply do a cartesian product of `fp_vertices` with `fp_colors` and expect to obtain the `fp_inlined` set.\n",
    "\n",
    " > Right now, AEON.py can only do projections to vertices (`VertexSet`) and colors (`ColorSet`). However, the underlying Rust code can actually do projections to any subset of variables or parameters. The main limitation is that we don't have a type safe way of manipulating such projections in Python yet. If you want to use such feature for something, get in touch and we can add it :)"
   ]
  }
 ],
 "metadata": {
  "kernelspec": {
   "display_name": "Python 3 (ipykernel)",
   "language": "python",
   "name": "python3"
  },
  "language_info": {
   "codemirror_mode": {
    "name": "ipython",
    "version": 3
   },
   "file_extension": ".py",
   "mimetype": "text/x-python",
   "name": "python",
   "nbconvert_exporter": "python",
   "pygments_lexer": "ipython3",
   "version": "3.10.6"
  }
 },
 "nbformat": 4,
 "nbformat_minor": 5
}
